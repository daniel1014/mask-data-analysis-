{
 "cells": [
  {
   "cell_type": "markdown",
   "metadata": {},
   "source": [
    "# 明确目标"
   ]
  },
  {
   "cell_type": "code",
   "execution_count": 2,
   "metadata": {},
   "outputs": [],
   "source": [
    "# 导入pyplot模块\n",
    "from matplotlib import pyplot as plt\n",
    "\n",
    "# 设置显示中文字体\n",
    "plt.rcParams['font.family'] = ['Source Han Sans CN']\n",
    "\n",
    "# 导入pandas模块并将其简化为pd\n",
    "import pandas as pd"
   ]
  },
  {
   "cell_type": "code",
   "execution_count": 3,
   "metadata": {},
   "outputs": [
    {
     "data": {
      "text/html": [
       "<div>\n",
       "<style scoped>\n",
       "    .dataframe tbody tr th:only-of-type {\n",
       "        vertical-align: middle;\n",
       "    }\n",
       "\n",
       "    .dataframe tbody tr th {\n",
       "        vertical-align: top;\n",
       "    }\n",
       "\n",
       "    .dataframe thead th {\n",
       "        text-align: right;\n",
       "    }\n",
       "</style>\n",
       "<table border=\"1\" class=\"dataframe\">\n",
       "  <thead>\n",
       "    <tr style=\"text-align: right;\">\n",
       "      <th></th>\n",
       "      <th>订单编号</th>\n",
       "      <th>日期</th>\n",
       "      <th>省</th>\n",
       "      <th>订单量</th>\n",
       "      <th>单价</th>\n",
       "      <th>销售额</th>\n",
       "    </tr>\n",
       "  </thead>\n",
       "  <tbody>\n",
       "    <tr>\n",
       "      <th>0</th>\n",
       "      <td>87af-48e5-8bed-c5dcf9ecc172</td>\n",
       "      <td>2020-01-01</td>\n",
       "      <td>广东</td>\n",
       "      <td>0.0</td>\n",
       "      <td>30.0</td>\n",
       "      <td>0.0</td>\n",
       "    </tr>\n",
       "    <tr>\n",
       "      <th>1</th>\n",
       "      <td>535a-4eca-8fa0-9cc54c66e11d</td>\n",
       "      <td>2020-01-01</td>\n",
       "      <td>河南</td>\n",
       "      <td>0.0</td>\n",
       "      <td>30.0</td>\n",
       "      <td>0.0</td>\n",
       "    </tr>\n",
       "    <tr>\n",
       "      <th>2</th>\n",
       "      <td>a56d-4415-ad6e-020cdb154c35</td>\n",
       "      <td>2020-01-01</td>\n",
       "      <td>湖北</td>\n",
       "      <td>1.0</td>\n",
       "      <td>30.0</td>\n",
       "      <td>30.0</td>\n",
       "    </tr>\n",
       "    <tr>\n",
       "      <th>3</th>\n",
       "      <td>535a-4eca-8fa0-9cc54c66e11d</td>\n",
       "      <td>2020-01-01</td>\n",
       "      <td>河南</td>\n",
       "      <td>0.0</td>\n",
       "      <td>30.0</td>\n",
       "      <td>0.0</td>\n",
       "    </tr>\n",
       "    <tr>\n",
       "      <th>4</th>\n",
       "      <td>535a-4eca-8fa0-9cc54c66e11d</td>\n",
       "      <td>2020-01-01</td>\n",
       "      <td>河南</td>\n",
       "      <td>0.0</td>\n",
       "      <td>30.0</td>\n",
       "      <td>0.0</td>\n",
       "    </tr>\n",
       "    <tr>\n",
       "      <th>...</th>\n",
       "      <td>...</td>\n",
       "      <td>...</td>\n",
       "      <td>...</td>\n",
       "      <td>...</td>\n",
       "      <td>...</td>\n",
       "      <td>...</td>\n",
       "    </tr>\n",
       "    <tr>\n",
       "      <th>101937</th>\n",
       "      <td>6339-43f4-a12b-7b57d1ce3a48</td>\n",
       "      <td>NaN</td>\n",
       "      <td>NaN</td>\n",
       "      <td>NaN</td>\n",
       "      <td>NaN</td>\n",
       "      <td>NaN</td>\n",
       "    </tr>\n",
       "    <tr>\n",
       "      <th>101938</th>\n",
       "      <td>5e43-41c2-8696-fd5909cc98a4</td>\n",
       "      <td>NaN</td>\n",
       "      <td>NaN</td>\n",
       "      <td>999999999.0</td>\n",
       "      <td>999999999.0</td>\n",
       "      <td>999999999.0</td>\n",
       "    </tr>\n",
       "    <tr>\n",
       "      <th>101939</th>\n",
       "      <td>824c-4f2b-af43-038938d2db46</td>\n",
       "      <td>NaN</td>\n",
       "      <td>NaN</td>\n",
       "      <td>999999999.0</td>\n",
       "      <td>999999999.0</td>\n",
       "      <td>999999999.0</td>\n",
       "    </tr>\n",
       "    <tr>\n",
       "      <th>101940</th>\n",
       "      <td>1cf0-483a-ab11-0cebc6406c78</td>\n",
       "      <td>NaN</td>\n",
       "      <td>NaN</td>\n",
       "      <td>0.0</td>\n",
       "      <td>NaN</td>\n",
       "      <td>0.0</td>\n",
       "    </tr>\n",
       "    <tr>\n",
       "      <th>101941</th>\n",
       "      <td>8318-43df-9d34-0656d9eb759a</td>\n",
       "      <td>NaN</td>\n",
       "      <td>NaN</td>\n",
       "      <td>0.0</td>\n",
       "      <td>NaN</td>\n",
       "      <td>0.0</td>\n",
       "    </tr>\n",
       "  </tbody>\n",
       "</table>\n",
       "<p>101942 rows × 6 columns</p>\n",
       "</div>"
      ],
      "text/plain": [
       "                               订单编号          日期    省          订单量  \\\n",
       "0       87af-48e5-8bed-c5dcf9ecc172  2020-01-01   广东          0.0   \n",
       "1       535a-4eca-8fa0-9cc54c66e11d  2020-01-01   河南          0.0   \n",
       "2       a56d-4415-ad6e-020cdb154c35  2020-01-01   湖北          1.0   \n",
       "3       535a-4eca-8fa0-9cc54c66e11d  2020-01-01   河南          0.0   \n",
       "4       535a-4eca-8fa0-9cc54c66e11d  2020-01-01   河南          0.0   \n",
       "...                             ...         ...  ...          ...   \n",
       "101937  6339-43f4-a12b-7b57d1ce3a48         NaN  NaN          NaN   \n",
       "101938  5e43-41c2-8696-fd5909cc98a4         NaN  NaN  999999999.0   \n",
       "101939  824c-4f2b-af43-038938d2db46         NaN  NaN  999999999.0   \n",
       "101940  1cf0-483a-ab11-0cebc6406c78         NaN  NaN          0.0   \n",
       "101941  8318-43df-9d34-0656d9eb759a         NaN  NaN          0.0   \n",
       "\n",
       "                 单价          销售额  \n",
       "0              30.0          0.0  \n",
       "1              30.0          0.0  \n",
       "2              30.0         30.0  \n",
       "3              30.0          0.0  \n",
       "4              30.0          0.0  \n",
       "...             ...          ...  \n",
       "101937          NaN          NaN  \n",
       "101938  999999999.0  999999999.0  \n",
       "101939  999999999.0  999999999.0  \n",
       "101940          NaN          0.0  \n",
       "101941          NaN          0.0  \n",
       "\n",
       "[101942 rows x 6 columns]"
      ]
     },
     "execution_count": 3,
     "metadata": {},
     "output_type": "execute_result"
    }
   ],
   "source": [
    "mask_data = pd.read_csv('./工作/mask_data.csv', encoding = 'utf-8')\n",
    "mask_data"
   ]
  },
  {
   "cell_type": "markdown",
   "metadata": {},
   "source": [
    "# 数据处理"
   ]
  },
  {
   "cell_type": "markdown",
   "metadata": {},
   "source": [
    "## 数据清洗"
   ]
  },
  {
   "cell_type": "markdown",
   "metadata": {},
   "source": [
    "### 处理缺失值"
   ]
  },
  {
   "cell_type": "markdown",
   "metadata": {},
   "source": [
    "#### 查找缺失值"
   ]
  },
  {
   "cell_type": "code",
   "execution_count": 4,
   "metadata": {},
   "outputs": [
    {
     "data": {
      "text/html": [
       "<div>\n",
       "<style scoped>\n",
       "    .dataframe tbody tr th:only-of-type {\n",
       "        vertical-align: middle;\n",
       "    }\n",
       "\n",
       "    .dataframe tbody tr th {\n",
       "        vertical-align: top;\n",
       "    }\n",
       "\n",
       "    .dataframe thead th {\n",
       "        text-align: right;\n",
       "    }\n",
       "</style>\n",
       "<table border=\"1\" class=\"dataframe\">\n",
       "  <thead>\n",
       "    <tr style=\"text-align: right;\">\n",
       "      <th></th>\n",
       "      <th>订单编号</th>\n",
       "      <th>日期</th>\n",
       "      <th>省</th>\n",
       "      <th>订单量</th>\n",
       "      <th>单价</th>\n",
       "      <th>销售额</th>\n",
       "    </tr>\n",
       "  </thead>\n",
       "  <tbody>\n",
       "    <tr>\n",
       "      <th>0</th>\n",
       "      <td>False</td>\n",
       "      <td>False</td>\n",
       "      <td>False</td>\n",
       "      <td>False</td>\n",
       "      <td>False</td>\n",
       "      <td>False</td>\n",
       "    </tr>\n",
       "    <tr>\n",
       "      <th>1</th>\n",
       "      <td>False</td>\n",
       "      <td>False</td>\n",
       "      <td>False</td>\n",
       "      <td>False</td>\n",
       "      <td>False</td>\n",
       "      <td>False</td>\n",
       "    </tr>\n",
       "    <tr>\n",
       "      <th>2</th>\n",
       "      <td>False</td>\n",
       "      <td>False</td>\n",
       "      <td>False</td>\n",
       "      <td>False</td>\n",
       "      <td>False</td>\n",
       "      <td>False</td>\n",
       "    </tr>\n",
       "    <tr>\n",
       "      <th>3</th>\n",
       "      <td>False</td>\n",
       "      <td>False</td>\n",
       "      <td>False</td>\n",
       "      <td>False</td>\n",
       "      <td>False</td>\n",
       "      <td>False</td>\n",
       "    </tr>\n",
       "    <tr>\n",
       "      <th>4</th>\n",
       "      <td>False</td>\n",
       "      <td>False</td>\n",
       "      <td>False</td>\n",
       "      <td>False</td>\n",
       "      <td>False</td>\n",
       "      <td>False</td>\n",
       "    </tr>\n",
       "    <tr>\n",
       "      <th>...</th>\n",
       "      <td>...</td>\n",
       "      <td>...</td>\n",
       "      <td>...</td>\n",
       "      <td>...</td>\n",
       "      <td>...</td>\n",
       "      <td>...</td>\n",
       "    </tr>\n",
       "    <tr>\n",
       "      <th>101937</th>\n",
       "      <td>False</td>\n",
       "      <td>True</td>\n",
       "      <td>True</td>\n",
       "      <td>True</td>\n",
       "      <td>True</td>\n",
       "      <td>True</td>\n",
       "    </tr>\n",
       "    <tr>\n",
       "      <th>101938</th>\n",
       "      <td>False</td>\n",
       "      <td>True</td>\n",
       "      <td>True</td>\n",
       "      <td>False</td>\n",
       "      <td>False</td>\n",
       "      <td>False</td>\n",
       "    </tr>\n",
       "    <tr>\n",
       "      <th>101939</th>\n",
       "      <td>False</td>\n",
       "      <td>True</td>\n",
       "      <td>True</td>\n",
       "      <td>False</td>\n",
       "      <td>False</td>\n",
       "      <td>False</td>\n",
       "    </tr>\n",
       "    <tr>\n",
       "      <th>101940</th>\n",
       "      <td>False</td>\n",
       "      <td>True</td>\n",
       "      <td>True</td>\n",
       "      <td>False</td>\n",
       "      <td>True</td>\n",
       "      <td>False</td>\n",
       "    </tr>\n",
       "    <tr>\n",
       "      <th>101941</th>\n",
       "      <td>False</td>\n",
       "      <td>True</td>\n",
       "      <td>True</td>\n",
       "      <td>False</td>\n",
       "      <td>True</td>\n",
       "      <td>False</td>\n",
       "    </tr>\n",
       "  </tbody>\n",
       "</table>\n",
       "<p>101942 rows × 6 columns</p>\n",
       "</div>"
      ],
      "text/plain": [
       "         订单编号     日期      省    订单量     单价    销售额\n",
       "0       False  False  False  False  False  False\n",
       "1       False  False  False  False  False  False\n",
       "2       False  False  False  False  False  False\n",
       "3       False  False  False  False  False  False\n",
       "4       False  False  False  False  False  False\n",
       "...       ...    ...    ...    ...    ...    ...\n",
       "101937  False   True   True   True   True   True\n",
       "101938  False   True   True  False  False  False\n",
       "101939  False   True   True  False  False  False\n",
       "101940  False   True   True  False   True  False\n",
       "101941  False   True   True  False   True  False\n",
       "\n",
       "[101942 rows x 6 columns]"
      ]
     },
     "execution_count": 4,
     "metadata": {},
     "output_type": "execute_result"
    }
   ],
   "source": [
    "# 查看mask_data的缺失值\n",
    "mask_data.isna()"
   ]
  },
  {
   "cell_type": "code",
   "execution_count": 5,
   "metadata": {},
   "outputs": [
    {
     "data": {
      "text/html": [
       "<div>\n",
       "<style scoped>\n",
       "    .dataframe tbody tr th:only-of-type {\n",
       "        vertical-align: middle;\n",
       "    }\n",
       "\n",
       "    .dataframe tbody tr th {\n",
       "        vertical-align: top;\n",
       "    }\n",
       "\n",
       "    .dataframe thead th {\n",
       "        text-align: right;\n",
       "    }\n",
       "</style>\n",
       "<table border=\"1\" class=\"dataframe\">\n",
       "  <thead>\n",
       "    <tr style=\"text-align: right;\">\n",
       "      <th></th>\n",
       "      <th>订单编号</th>\n",
       "      <th>日期</th>\n",
       "      <th>省</th>\n",
       "      <th>订单量</th>\n",
       "      <th>单价</th>\n",
       "      <th>销售额</th>\n",
       "    </tr>\n",
       "  </thead>\n",
       "  <tbody>\n",
       "    <tr>\n",
       "      <th>101937</th>\n",
       "      <td>6339-43f4-a12b-7b57d1ce3a48</td>\n",
       "      <td>NaN</td>\n",
       "      <td>NaN</td>\n",
       "      <td>NaN</td>\n",
       "      <td>NaN</td>\n",
       "      <td>NaN</td>\n",
       "    </tr>\n",
       "    <tr>\n",
       "      <th>101938</th>\n",
       "      <td>5e43-41c2-8696-fd5909cc98a4</td>\n",
       "      <td>NaN</td>\n",
       "      <td>NaN</td>\n",
       "      <td>999999999.0</td>\n",
       "      <td>999999999.0</td>\n",
       "      <td>999999999.0</td>\n",
       "    </tr>\n",
       "    <tr>\n",
       "      <th>101939</th>\n",
       "      <td>824c-4f2b-af43-038938d2db46</td>\n",
       "      <td>NaN</td>\n",
       "      <td>NaN</td>\n",
       "      <td>999999999.0</td>\n",
       "      <td>999999999.0</td>\n",
       "      <td>999999999.0</td>\n",
       "    </tr>\n",
       "    <tr>\n",
       "      <th>101940</th>\n",
       "      <td>1cf0-483a-ab11-0cebc6406c78</td>\n",
       "      <td>NaN</td>\n",
       "      <td>NaN</td>\n",
       "      <td>0.0</td>\n",
       "      <td>NaN</td>\n",
       "      <td>0.0</td>\n",
       "    </tr>\n",
       "    <tr>\n",
       "      <th>101941</th>\n",
       "      <td>8318-43df-9d34-0656d9eb759a</td>\n",
       "      <td>NaN</td>\n",
       "      <td>NaN</td>\n",
       "      <td>0.0</td>\n",
       "      <td>NaN</td>\n",
       "      <td>0.0</td>\n",
       "    </tr>\n",
       "  </tbody>\n",
       "</table>\n",
       "</div>"
      ],
      "text/plain": [
       "                               订单编号   日期    省          订单量           单价  \\\n",
       "101937  6339-43f4-a12b-7b57d1ce3a48  NaN  NaN          NaN          NaN   \n",
       "101938  5e43-41c2-8696-fd5909cc98a4  NaN  NaN  999999999.0  999999999.0   \n",
       "101939  824c-4f2b-af43-038938d2db46  NaN  NaN  999999999.0  999999999.0   \n",
       "101940  1cf0-483a-ab11-0cebc6406c78  NaN  NaN          0.0          NaN   \n",
       "101941  8318-43df-9d34-0656d9eb759a  NaN  NaN          0.0          NaN   \n",
       "\n",
       "                销售额  \n",
       "101937          NaN  \n",
       "101938  999999999.0  \n",
       "101939  999999999.0  \n",
       "101940          0.0  \n",
       "101941          0.0  "
      ]
     },
     "execution_count": 5,
     "metadata": {},
     "output_type": "execute_result"
    }
   ],
   "source": [
    "# 查看数据后5行\n",
    "mask_data.tail()"
   ]
  },
  {
   "cell_type": "markdown",
   "metadata": {},
   "source": [
    "#### 删除缺失值"
   ]
  },
  {
   "cell_type": "code",
   "execution_count": 6,
   "metadata": {},
   "outputs": [
    {
     "name": "stdout",
     "output_type": "stream",
     "text": [
      "<class 'pandas.core.frame.DataFrame'>\n",
      "Int64Index: 100956 entries, 0 to 100955\n",
      "Data columns (total 6 columns):\n",
      " #   Column  Non-Null Count   Dtype  \n",
      "---  ------  --------------   -----  \n",
      " 0   订单编号    100956 non-null  object \n",
      " 1   日期      100956 non-null  object \n",
      " 2   省       100956 non-null  object \n",
      " 3   订单量     100956 non-null  float64\n",
      " 4   单价      100956 non-null  float64\n",
      " 5   销售额     100956 non-null  float64\n",
      "dtypes: float64(3), object(3)\n",
      "memory usage: 5.4+ MB\n"
     ]
    }
   ],
   "source": [
    "# 删除所有缺失值\n",
    "mask_data = mask_data.dropna()\n",
    "# 查看数据基本信息总结\n",
    "mask_data.info()"
   ]
  },
  {
   "cell_type": "markdown",
   "metadata": {},
   "source": [
    "### 处理重复值"
   ]
  },
  {
   "cell_type": "markdown",
   "metadata": {},
   "source": [
    "#### 查找重复值"
   ]
  },
  {
   "cell_type": "code",
   "execution_count": 7,
   "metadata": {},
   "outputs": [
    {
     "data": {
      "text/plain": [
       "0         False\n",
       "1         False\n",
       "2         False\n",
       "3          True\n",
       "4          True\n",
       "          ...  \n",
       "100951    False\n",
       "100952    False\n",
       "100953    False\n",
       "100954    False\n",
       "100955    False\n",
       "Length: 100956, dtype: bool"
      ]
     },
     "execution_count": 7,
     "metadata": {},
     "output_type": "execute_result"
    }
   ],
   "source": [
    "# 查找mask_data中的重复行\n",
    "mask_data.duplicated()"
   ]
  },
  {
   "cell_type": "code",
   "execution_count": 8,
   "metadata": {},
   "outputs": [
    {
     "data": {
      "text/html": [
       "<div>\n",
       "<style scoped>\n",
       "    .dataframe tbody tr th:only-of-type {\n",
       "        vertical-align: middle;\n",
       "    }\n",
       "\n",
       "    .dataframe tbody tr th {\n",
       "        vertical-align: top;\n",
       "    }\n",
       "\n",
       "    .dataframe thead th {\n",
       "        text-align: right;\n",
       "    }\n",
       "</style>\n",
       "<table border=\"1\" class=\"dataframe\">\n",
       "  <thead>\n",
       "    <tr style=\"text-align: right;\">\n",
       "      <th></th>\n",
       "      <th>订单编号</th>\n",
       "      <th>日期</th>\n",
       "      <th>省</th>\n",
       "      <th>订单量</th>\n",
       "      <th>单价</th>\n",
       "      <th>销售额</th>\n",
       "    </tr>\n",
       "  </thead>\n",
       "  <tbody>\n",
       "    <tr>\n",
       "      <th>3</th>\n",
       "      <td>535a-4eca-8fa0-9cc54c66e11d</td>\n",
       "      <td>2020-01-01</td>\n",
       "      <td>河南</td>\n",
       "      <td>0.0</td>\n",
       "      <td>30.0</td>\n",
       "      <td>0.0</td>\n",
       "    </tr>\n",
       "    <tr>\n",
       "      <th>4</th>\n",
       "      <td>535a-4eca-8fa0-9cc54c66e11d</td>\n",
       "      <td>2020-01-01</td>\n",
       "      <td>河南</td>\n",
       "      <td>0.0</td>\n",
       "      <td>30.0</td>\n",
       "      <td>0.0</td>\n",
       "    </tr>\n",
       "    <tr>\n",
       "      <th>412</th>\n",
       "      <td>2b31-4392-be6e-19af71e40261</td>\n",
       "      <td>2020-01-09</td>\n",
       "      <td>河南</td>\n",
       "      <td>1.0</td>\n",
       "      <td>30.0</td>\n",
       "      <td>30.0</td>\n",
       "    </tr>\n",
       "    <tr>\n",
       "      <th>441</th>\n",
       "      <td>d707-4d5c-ac10-59d3fd3dc0bb</td>\n",
       "      <td>2020-01-10</td>\n",
       "      <td>广东</td>\n",
       "      <td>1.0</td>\n",
       "      <td>30.0</td>\n",
       "      <td>30.0</td>\n",
       "    </tr>\n",
       "    <tr>\n",
       "      <th>845</th>\n",
       "      <td>49f6-4bd5-97a5-aeb075a1c8c3</td>\n",
       "      <td>2020-01-16</td>\n",
       "      <td>湖北</td>\n",
       "      <td>8.0</td>\n",
       "      <td>40.0</td>\n",
       "      <td>320.0</td>\n",
       "    </tr>\n",
       "    <tr>\n",
       "      <th>...</th>\n",
       "      <td>...</td>\n",
       "      <td>...</td>\n",
       "      <td>...</td>\n",
       "      <td>...</td>\n",
       "      <td>...</td>\n",
       "      <td>...</td>\n",
       "    </tr>\n",
       "    <tr>\n",
       "      <th>100157</th>\n",
       "      <td>1ee1-41a6-8c0a-7c24f988689f</td>\n",
       "      <td>2020-06-25</td>\n",
       "      <td>湖北</td>\n",
       "      <td>8.0</td>\n",
       "      <td>30.0</td>\n",
       "      <td>240.0</td>\n",
       "    </tr>\n",
       "    <tr>\n",
       "      <th>100312</th>\n",
       "      <td>c72a-401d-8f11-39becb49d442</td>\n",
       "      <td>2020-06-26</td>\n",
       "      <td>湖北</td>\n",
       "      <td>9.0</td>\n",
       "      <td>30.0</td>\n",
       "      <td>270.0</td>\n",
       "    </tr>\n",
       "    <tr>\n",
       "      <th>100321</th>\n",
       "      <td>73f3-4d40-af4e-426548a7c539</td>\n",
       "      <td>2020-06-26</td>\n",
       "      <td>广东</td>\n",
       "      <td>3.0</td>\n",
       "      <td>30.0</td>\n",
       "      <td>90.0</td>\n",
       "    </tr>\n",
       "    <tr>\n",
       "      <th>100330</th>\n",
       "      <td>1265-4d27-a5c6-d3d6f44cd594</td>\n",
       "      <td>2020-06-26</td>\n",
       "      <td>广东</td>\n",
       "      <td>3.0</td>\n",
       "      <td>30.0</td>\n",
       "      <td>90.0</td>\n",
       "    </tr>\n",
       "    <tr>\n",
       "      <th>100772</th>\n",
       "      <td>a56d-4415-ad6e-020cdb154c35</td>\n",
       "      <td>2020-06-29</td>\n",
       "      <td>其他</td>\n",
       "      <td>0.0</td>\n",
       "      <td>30.0</td>\n",
       "      <td>0.0</td>\n",
       "    </tr>\n",
       "  </tbody>\n",
       "</table>\n",
       "<p>448 rows × 6 columns</p>\n",
       "</div>"
      ],
      "text/plain": [
       "                               订单编号          日期   省  订单量    单价    销售额\n",
       "3       535a-4eca-8fa0-9cc54c66e11d  2020-01-01  河南  0.0  30.0    0.0\n",
       "4       535a-4eca-8fa0-9cc54c66e11d  2020-01-01  河南  0.0  30.0    0.0\n",
       "412     2b31-4392-be6e-19af71e40261  2020-01-09  河南  1.0  30.0   30.0\n",
       "441     d707-4d5c-ac10-59d3fd3dc0bb  2020-01-10  广东  1.0  30.0   30.0\n",
       "845     49f6-4bd5-97a5-aeb075a1c8c3  2020-01-16  湖北  8.0  40.0  320.0\n",
       "...                             ...         ...  ..  ...   ...    ...\n",
       "100157  1ee1-41a6-8c0a-7c24f988689f  2020-06-25  湖北  8.0  30.0  240.0\n",
       "100312  c72a-401d-8f11-39becb49d442  2020-06-26  湖北  9.0  30.0  270.0\n",
       "100321  73f3-4d40-af4e-426548a7c539  2020-06-26  广东  3.0  30.0   90.0\n",
       "100330  1265-4d27-a5c6-d3d6f44cd594  2020-06-26  广东  3.0  30.0   90.0\n",
       "100772  a56d-4415-ad6e-020cdb154c35  2020-06-29  其他  0.0  30.0    0.0\n",
       "\n",
       "[448 rows x 6 columns]"
      ]
     },
     "execution_count": 8,
     "metadata": {},
     "output_type": "execute_result"
    }
   ],
   "source": [
    "# 查看mask_data中的重复数据\n",
    "mask_data[mask_data.duplicated()]"
   ]
  },
  {
   "cell_type": "markdown",
   "metadata": {},
   "source": [
    "#### 删除重复值"
   ]
  },
  {
   "cell_type": "code",
   "execution_count": 9,
   "metadata": {},
   "outputs": [
    {
     "data": {
      "text/html": [
       "<div>\n",
       "<style scoped>\n",
       "    .dataframe tbody tr th:only-of-type {\n",
       "        vertical-align: middle;\n",
       "    }\n",
       "\n",
       "    .dataframe tbody tr th {\n",
       "        vertical-align: top;\n",
       "    }\n",
       "\n",
       "    .dataframe thead th {\n",
       "        text-align: right;\n",
       "    }\n",
       "</style>\n",
       "<table border=\"1\" class=\"dataframe\">\n",
       "  <thead>\n",
       "    <tr style=\"text-align: right;\">\n",
       "      <th></th>\n",
       "      <th>订单编号</th>\n",
       "      <th>日期</th>\n",
       "      <th>省</th>\n",
       "      <th>订单量</th>\n",
       "      <th>单价</th>\n",
       "      <th>销售额</th>\n",
       "    </tr>\n",
       "  </thead>\n",
       "  <tbody>\n",
       "  </tbody>\n",
       "</table>\n",
       "</div>"
      ],
      "text/plain": [
       "Empty DataFrame\n",
       "Columns: [订单编号, 日期, 省, 订单量, 单价, 销售额]\n",
       "Index: []"
      ]
     },
     "execution_count": 9,
     "metadata": {},
     "output_type": "execute_result"
    }
   ],
   "source": [
    "# 直接删除所有重复值\n",
    "mask_data = mask_data.drop_duplicates()\n",
    "# 查看mask_data中的重复数据\n",
    "mask_data[mask_data.duplicated()]"
   ]
  },
  {
   "cell_type": "markdown",
   "metadata": {},
   "source": []
  },
  {
   "cell_type": "code",
   "execution_count": 10,
   "metadata": {},
   "outputs": [
    {
     "name": "stdout",
     "output_type": "stream",
     "text": [
      "<class 'pandas.core.frame.DataFrame'>\n",
      "Int64Index: 100508 entries, 0 to 100955\n",
      "Data columns (total 6 columns):\n",
      " #   Column  Non-Null Count   Dtype  \n",
      "---  ------  --------------   -----  \n",
      " 0   订单编号    100508 non-null  object \n",
      " 1   日期      100508 non-null  object \n",
      " 2   省       100508 non-null  object \n",
      " 3   订单量     100508 non-null  float64\n",
      " 4   单价      100508 non-null  float64\n",
      " 5   销售额     100508 non-null  float64\n",
      "dtypes: float64(3), object(3)\n",
      "memory usage: 5.4+ MB\n"
     ]
    }
   ],
   "source": [
    "# 查看清洗后的基本信息总结\n",
    "mask_data.info()"
   ]
  },
  {
   "cell_type": "markdown",
   "metadata": {},
   "source": [
    "### 处理异常值"
   ]
  },
  {
   "cell_type": "markdown",
   "metadata": {},
   "source": [
    "#### 检查异常值"
   ]
  },
  {
   "cell_type": "code",
   "execution_count": 11,
   "metadata": {},
   "outputs": [
    {
     "data": {
      "text/html": [
       "<div>\n",
       "<style scoped>\n",
       "    .dataframe tbody tr th:only-of-type {\n",
       "        vertical-align: middle;\n",
       "    }\n",
       "\n",
       "    .dataframe tbody tr th {\n",
       "        vertical-align: top;\n",
       "    }\n",
       "\n",
       "    .dataframe thead th {\n",
       "        text-align: right;\n",
       "    }\n",
       "</style>\n",
       "<table border=\"1\" class=\"dataframe\">\n",
       "  <thead>\n",
       "    <tr style=\"text-align: right;\">\n",
       "      <th></th>\n",
       "      <th>订单量</th>\n",
       "      <th>单价</th>\n",
       "      <th>销售额</th>\n",
       "    </tr>\n",
       "  </thead>\n",
       "  <tbody>\n",
       "    <tr>\n",
       "      <th>count</th>\n",
       "      <td>1.005080e+05</td>\n",
       "      <td>1.005080e+05</td>\n",
       "      <td>1.005080e+05</td>\n",
       "    </tr>\n",
       "    <tr>\n",
       "      <th>mean</th>\n",
       "      <td>9.551786e+05</td>\n",
       "      <td>9.552499e+05</td>\n",
       "      <td>9.592048e+05</td>\n",
       "    </tr>\n",
       "    <tr>\n",
       "      <th>std</th>\n",
       "      <td>3.089086e+07</td>\n",
       "      <td>3.089085e+07</td>\n",
       "      <td>3.089073e+07</td>\n",
       "    </tr>\n",
       "    <tr>\n",
       "      <th>min</th>\n",
       "      <td>0.000000e+00</td>\n",
       "      <td>3.000000e+01</td>\n",
       "      <td>0.000000e+00</td>\n",
       "    </tr>\n",
       "    <tr>\n",
       "      <th>25%</th>\n",
       "      <td>9.000000e+00</td>\n",
       "      <td>5.000000e+01</td>\n",
       "      <td>5.500000e+02</td>\n",
       "    </tr>\n",
       "    <tr>\n",
       "      <th>50%</th>\n",
       "      <td>2.000000e+01</td>\n",
       "      <td>5.000000e+01</td>\n",
       "      <td>1.700000e+03</td>\n",
       "    </tr>\n",
       "    <tr>\n",
       "      <th>75%</th>\n",
       "      <td>4.700000e+01</td>\n",
       "      <td>1.500000e+02</td>\n",
       "      <td>4.000000e+03</td>\n",
       "    </tr>\n",
       "    <tr>\n",
       "      <th>max</th>\n",
       "      <td>1.000000e+09</td>\n",
       "      <td>1.000000e+09</td>\n",
       "      <td>1.000000e+09</td>\n",
       "    </tr>\n",
       "  </tbody>\n",
       "</table>\n",
       "</div>"
      ],
      "text/plain": [
       "                订单量            单价           销售额\n",
       "count  1.005080e+05  1.005080e+05  1.005080e+05\n",
       "mean   9.551786e+05  9.552499e+05  9.592048e+05\n",
       "std    3.089086e+07  3.089085e+07  3.089073e+07\n",
       "min    0.000000e+00  3.000000e+01  0.000000e+00\n",
       "25%    9.000000e+00  5.000000e+01  5.500000e+02\n",
       "50%    2.000000e+01  5.000000e+01  1.700000e+03\n",
       "75%    4.700000e+01  1.500000e+02  4.000000e+03\n",
       "max    1.000000e+09  1.000000e+09  1.000000e+09"
      ]
     },
     "execution_count": 11,
     "metadata": {},
     "output_type": "execute_result"
    }
   ],
   "source": [
    "# 查看数据描述性统计信息\n",
    "mask_data.describe()"
   ]
  },
  {
   "cell_type": "code",
   "execution_count": 12,
   "metadata": {},
   "outputs": [
    {
     "data": {
      "text/html": [
       "<div>\n",
       "<style scoped>\n",
       "    .dataframe tbody tr th:only-of-type {\n",
       "        vertical-align: middle;\n",
       "    }\n",
       "\n",
       "    .dataframe tbody tr th {\n",
       "        vertical-align: top;\n",
       "    }\n",
       "\n",
       "    .dataframe thead th {\n",
       "        text-align: right;\n",
       "    }\n",
       "</style>\n",
       "<table border=\"1\" class=\"dataframe\">\n",
       "  <thead>\n",
       "    <tr style=\"text-align: right;\">\n",
       "      <th></th>\n",
       "      <th>订单编号</th>\n",
       "      <th>日期</th>\n",
       "      <th>省</th>\n",
       "      <th>订单量</th>\n",
       "      <th>单价</th>\n",
       "      <th>销售额</th>\n",
       "    </tr>\n",
       "  </thead>\n",
       "  <tbody>\n",
       "    <tr>\n",
       "      <th>0</th>\n",
       "      <td>87af-48e5-8bed-c5dcf9ecc172</td>\n",
       "      <td>2020-01-01</td>\n",
       "      <td>广东</td>\n",
       "      <td>0.0</td>\n",
       "      <td>30.0</td>\n",
       "      <td>0.0</td>\n",
       "    </tr>\n",
       "    <tr>\n",
       "      <th>1</th>\n",
       "      <td>535a-4eca-8fa0-9cc54c66e11d</td>\n",
       "      <td>2020-01-01</td>\n",
       "      <td>河南</td>\n",
       "      <td>0.0</td>\n",
       "      <td>30.0</td>\n",
       "      <td>0.0</td>\n",
       "    </tr>\n",
       "    <tr>\n",
       "      <th>2</th>\n",
       "      <td>a56d-4415-ad6e-020cdb154c35</td>\n",
       "      <td>2020-01-01</td>\n",
       "      <td>湖北</td>\n",
       "      <td>1.0</td>\n",
       "      <td>30.0</td>\n",
       "      <td>30.0</td>\n",
       "    </tr>\n",
       "    <tr>\n",
       "      <th>5</th>\n",
       "      <td>953f-4b46-a8a2-0eb0e39818a8</td>\n",
       "      <td>2020-01-01</td>\n",
       "      <td>其他</td>\n",
       "      <td>0.0</td>\n",
       "      <td>30.0</td>\n",
       "      <td>0.0</td>\n",
       "    </tr>\n",
       "    <tr>\n",
       "      <th>6</th>\n",
       "      <td>953f-4b46-a8a2-0eb0e39818a8</td>\n",
       "      <td>2020-01-01</td>\n",
       "      <td>湖北</td>\n",
       "      <td>1.0</td>\n",
       "      <td>30.0</td>\n",
       "      <td>30.0</td>\n",
       "    </tr>\n",
       "    <tr>\n",
       "      <th>...</th>\n",
       "      <td>...</td>\n",
       "      <td>...</td>\n",
       "      <td>...</td>\n",
       "      <td>...</td>\n",
       "      <td>...</td>\n",
       "      <td>...</td>\n",
       "    </tr>\n",
       "    <tr>\n",
       "      <th>100951</th>\n",
       "      <td>8cad-41ee-85b7-c59b85f0ebe6</td>\n",
       "      <td>2020-06-30</td>\n",
       "      <td>湖北</td>\n",
       "      <td>10.0</td>\n",
       "      <td>30.0</td>\n",
       "      <td>300.0</td>\n",
       "    </tr>\n",
       "    <tr>\n",
       "      <th>100952</th>\n",
       "      <td>4ea4-480a-a070-295408955363</td>\n",
       "      <td>2020-06-30</td>\n",
       "      <td>湖北</td>\n",
       "      <td>6.0</td>\n",
       "      <td>30.0</td>\n",
       "      <td>180.0</td>\n",
       "    </tr>\n",
       "    <tr>\n",
       "      <th>100953</th>\n",
       "      <td>70f3-4461-9b5f-7f53a55c51b6</td>\n",
       "      <td>2020-06-30</td>\n",
       "      <td>湖北</td>\n",
       "      <td>10.0</td>\n",
       "      <td>30.0</td>\n",
       "      <td>300.0</td>\n",
       "    </tr>\n",
       "    <tr>\n",
       "      <th>100954</th>\n",
       "      <td>9cc8-4542-8fed-3145e1942504</td>\n",
       "      <td>2020-06-30</td>\n",
       "      <td>湖北</td>\n",
       "      <td>10.0</td>\n",
       "      <td>30.0</td>\n",
       "      <td>300.0</td>\n",
       "    </tr>\n",
       "    <tr>\n",
       "      <th>100955</th>\n",
       "      <td>f202-45df-96e2-ca4e4c389624</td>\n",
       "      <td>2020-06-30</td>\n",
       "      <td>湖北</td>\n",
       "      <td>5.0</td>\n",
       "      <td>30.0</td>\n",
       "      <td>150.0</td>\n",
       "    </tr>\n",
       "  </tbody>\n",
       "</table>\n",
       "<p>100412 rows × 6 columns</p>\n",
       "</div>"
      ],
      "text/plain": [
       "                               订单编号          日期   省   订单量    单价    销售额\n",
       "0       87af-48e5-8bed-c5dcf9ecc172  2020-01-01  广东   0.0  30.0    0.0\n",
       "1       535a-4eca-8fa0-9cc54c66e11d  2020-01-01  河南   0.0  30.0    0.0\n",
       "2       a56d-4415-ad6e-020cdb154c35  2020-01-01  湖北   1.0  30.0   30.0\n",
       "5       953f-4b46-a8a2-0eb0e39818a8  2020-01-01  其他   0.0  30.0    0.0\n",
       "6       953f-4b46-a8a2-0eb0e39818a8  2020-01-01  湖北   1.0  30.0   30.0\n",
       "...                             ...         ...  ..   ...   ...    ...\n",
       "100951  8cad-41ee-85b7-c59b85f0ebe6  2020-06-30  湖北  10.0  30.0  300.0\n",
       "100952  4ea4-480a-a070-295408955363  2020-06-30  湖北   6.0  30.0  180.0\n",
       "100953  70f3-4461-9b5f-7f53a55c51b6  2020-06-30  湖北  10.0  30.0  300.0\n",
       "100954  9cc8-4542-8fed-3145e1942504  2020-06-30  湖北  10.0  30.0  300.0\n",
       "100955  f202-45df-96e2-ca4e4c389624  2020-06-30  湖北   5.0  30.0  150.0\n",
       "\n",
       "[100412 rows x 6 columns]"
      ]
     },
     "execution_count": 12,
     "metadata": {},
     "output_type": "execute_result"
    }
   ],
   "source": [
    "# 查看单价小于等于200的数据\n",
    "mask_data[mask_data['单价'] <= 200]"
   ]
  },
  {
   "cell_type": "code",
   "execution_count": 13,
   "metadata": {},
   "outputs": [
    {
     "data": {
      "text/plain": [
       "0         True\n",
       "1         True\n",
       "2         True\n",
       "5         True\n",
       "6         True\n",
       "          ... \n",
       "100951    True\n",
       "100952    True\n",
       "100953    True\n",
       "100954    True\n",
       "100955    True\n",
       "Name: 单价, Length: 100508, dtype: bool"
      ]
     },
     "execution_count": 13,
     "metadata": {},
     "output_type": "execute_result"
    }
   ],
   "source": [
    "# 查看单价小于等于200的数据\n",
    "mask_data['单价'] <= 200"
   ]
  },
  {
   "cell_type": "code",
   "execution_count": 14,
   "metadata": {},
   "outputs": [
    {
     "data": {
      "text/html": [
       "<div>\n",
       "<style scoped>\n",
       "    .dataframe tbody tr th:only-of-type {\n",
       "        vertical-align: middle;\n",
       "    }\n",
       "\n",
       "    .dataframe tbody tr th {\n",
       "        vertical-align: top;\n",
       "    }\n",
       "\n",
       "    .dataframe thead th {\n",
       "        text-align: right;\n",
       "    }\n",
       "</style>\n",
       "<table border=\"1\" class=\"dataframe\">\n",
       "  <thead>\n",
       "    <tr style=\"text-align: right;\">\n",
       "      <th></th>\n",
       "      <th>订单量</th>\n",
       "      <th>单价</th>\n",
       "      <th>销售额</th>\n",
       "    </tr>\n",
       "  </thead>\n",
       "  <tbody>\n",
       "    <tr>\n",
       "      <th>count</th>\n",
       "      <td>100412.000000</td>\n",
       "      <td>100412.000000</td>\n",
       "      <td>100412.000000</td>\n",
       "    </tr>\n",
       "    <tr>\n",
       "      <th>mean</th>\n",
       "      <td>30.786529</td>\n",
       "      <td>102.161793</td>\n",
       "      <td>4060.837350</td>\n",
       "    </tr>\n",
       "    <tr>\n",
       "      <th>std</th>\n",
       "      <td>27.639737</td>\n",
       "      <td>63.533396</td>\n",
       "      <td>5278.401132</td>\n",
       "    </tr>\n",
       "    <tr>\n",
       "      <th>min</th>\n",
       "      <td>0.000000</td>\n",
       "      <td>30.000000</td>\n",
       "      <td>0.000000</td>\n",
       "    </tr>\n",
       "    <tr>\n",
       "      <th>25%</th>\n",
       "      <td>9.000000</td>\n",
       "      <td>50.000000</td>\n",
       "      <td>550.000000</td>\n",
       "    </tr>\n",
       "    <tr>\n",
       "      <th>50%</th>\n",
       "      <td>20.000000</td>\n",
       "      <td>50.000000</td>\n",
       "      <td>1700.000000</td>\n",
       "    </tr>\n",
       "    <tr>\n",
       "      <th>75%</th>\n",
       "      <td>47.000000</td>\n",
       "      <td>150.000000</td>\n",
       "      <td>4000.000000</td>\n",
       "    </tr>\n",
       "    <tr>\n",
       "      <th>max</th>\n",
       "      <td>100.000000</td>\n",
       "      <td>200.000000</td>\n",
       "      <td>20000.000000</td>\n",
       "    </tr>\n",
       "  </tbody>\n",
       "</table>\n",
       "</div>"
      ],
      "text/plain": [
       "                 订单量             单价            销售额\n",
       "count  100412.000000  100412.000000  100412.000000\n",
       "mean       30.786529     102.161793    4060.837350\n",
       "std        27.639737      63.533396    5278.401132\n",
       "min         0.000000      30.000000       0.000000\n",
       "25%         9.000000      50.000000     550.000000\n",
       "50%        20.000000      50.000000    1700.000000\n",
       "75%        47.000000     150.000000    4000.000000\n",
       "max       100.000000     200.000000   20000.000000"
      ]
     },
     "execution_count": 14,
     "metadata": {},
     "output_type": "execute_result"
    }
   ],
   "source": [
    "# 筛选单价小于等于200的数据\n",
    "mask_data = mask_data[mask_data['单价'] <= 200]\n",
    "# 查看mask_data的描述性统计信息\n",
    "mask_data.describe()"
   ]
  },
  {
   "cell_type": "code",
   "execution_count": 15,
   "metadata": {},
   "outputs": [
    {
     "data": {
      "text/html": [
       "<div>\n",
       "<style scoped>\n",
       "    .dataframe tbody tr th:only-of-type {\n",
       "        vertical-align: middle;\n",
       "    }\n",
       "\n",
       "    .dataframe tbody tr th {\n",
       "        vertical-align: top;\n",
       "    }\n",
       "\n",
       "    .dataframe thead th {\n",
       "        text-align: right;\n",
       "    }\n",
       "</style>\n",
       "<table border=\"1\" class=\"dataframe\">\n",
       "  <thead>\n",
       "    <tr style=\"text-align: right;\">\n",
       "      <th></th>\n",
       "      <th>订单量</th>\n",
       "      <th>单价</th>\n",
       "      <th>销售额</th>\n",
       "    </tr>\n",
       "  </thead>\n",
       "  <tbody>\n",
       "    <tr>\n",
       "      <th>count</th>\n",
       "      <td>99485.000000</td>\n",
       "      <td>99485.000000</td>\n",
       "      <td>99485.000000</td>\n",
       "    </tr>\n",
       "    <tr>\n",
       "      <th>mean</th>\n",
       "      <td>31.073398</td>\n",
       "      <td>102.763130</td>\n",
       "      <td>4098.676182</td>\n",
       "    </tr>\n",
       "    <tr>\n",
       "      <th>std</th>\n",
       "      <td>27.607238</td>\n",
       "      <td>63.486035</td>\n",
       "      <td>5288.293082</td>\n",
       "    </tr>\n",
       "    <tr>\n",
       "      <th>min</th>\n",
       "      <td>1.000000</td>\n",
       "      <td>30.000000</td>\n",
       "      <td>30.000000</td>\n",
       "    </tr>\n",
       "    <tr>\n",
       "      <th>25%</th>\n",
       "      <td>9.000000</td>\n",
       "      <td>50.000000</td>\n",
       "      <td>560.000000</td>\n",
       "    </tr>\n",
       "    <tr>\n",
       "      <th>50%</th>\n",
       "      <td>20.000000</td>\n",
       "      <td>100.000000</td>\n",
       "      <td>1750.000000</td>\n",
       "    </tr>\n",
       "    <tr>\n",
       "      <th>75%</th>\n",
       "      <td>47.000000</td>\n",
       "      <td>150.000000</td>\n",
       "      <td>4000.000000</td>\n",
       "    </tr>\n",
       "    <tr>\n",
       "      <th>max</th>\n",
       "      <td>100.000000</td>\n",
       "      <td>200.000000</td>\n",
       "      <td>20000.000000</td>\n",
       "    </tr>\n",
       "  </tbody>\n",
       "</table>\n",
       "</div>"
      ],
      "text/plain": [
       "                订单量            单价           销售额\n",
       "count  99485.000000  99485.000000  99485.000000\n",
       "mean      31.073398    102.763130   4098.676182\n",
       "std       27.607238     63.486035   5288.293082\n",
       "min        1.000000     30.000000     30.000000\n",
       "25%        9.000000     50.000000    560.000000\n",
       "50%       20.000000    100.000000   1750.000000\n",
       "75%       47.000000    150.000000   4000.000000\n",
       "max      100.000000    200.000000  20000.000000"
      ]
     },
     "execution_count": 15,
     "metadata": {},
     "output_type": "execute_result"
    }
   ],
   "source": [
    "# 筛选订单量大于0的数据\n",
    "mask_data = mask_data[mask_data['订单量'] > 0]\n",
    "# 查看mask_data的描述性统计信息\n",
    "mask_data.describe()"
   ]
  },
  {
   "cell_type": "code",
   "execution_count": 16,
   "metadata": {},
   "outputs": [
    {
     "name": "stdout",
     "output_type": "stream",
     "text": [
      "<class 'pandas.core.frame.DataFrame'>\n",
      "Int64Index: 99485 entries, 2 to 100955\n",
      "Data columns (total 6 columns):\n",
      " #   Column  Non-Null Count  Dtype  \n",
      "---  ------  --------------  -----  \n",
      " 0   订单编号    99485 non-null  object \n",
      " 1   日期      99485 non-null  object \n",
      " 2   省       99485 non-null  object \n",
      " 3   订单量     99485 non-null  float64\n",
      " 4   单价      99485 non-null  float64\n",
      " 5   销售额     99485 non-null  float64\n",
      "dtypes: float64(3), object(3)\n",
      "memory usage: 5.3+ MB\n"
     ]
    }
   ],
   "source": [
    "mask_data.info()"
   ]
  },
  {
   "cell_type": "markdown",
   "metadata": {},
   "source": [
    "## 数据整理"
   ]
  },
  {
   "cell_type": "code",
   "execution_count": 17,
   "metadata": {},
   "outputs": [
    {
     "data": {
      "text/html": [
       "<div>\n",
       "<style scoped>\n",
       "    .dataframe tbody tr th:only-of-type {\n",
       "        vertical-align: middle;\n",
       "    }\n",
       "\n",
       "    .dataframe tbody tr th {\n",
       "        vertical-align: top;\n",
       "    }\n",
       "\n",
       "    .dataframe thead th {\n",
       "        text-align: right;\n",
       "    }\n",
       "</style>\n",
       "<table border=\"1\" class=\"dataframe\">\n",
       "  <thead>\n",
       "    <tr style=\"text-align: right;\">\n",
       "      <th></th>\n",
       "      <th>订单编号</th>\n",
       "      <th>日期</th>\n",
       "      <th>省</th>\n",
       "      <th>订单量</th>\n",
       "      <th>单价</th>\n",
       "      <th>销售额</th>\n",
       "    </tr>\n",
       "  </thead>\n",
       "  <tbody>\n",
       "    <tr>\n",
       "      <th>2</th>\n",
       "      <td>a56d-4415-ad6e-020cdb154c35</td>\n",
       "      <td>2020-01-01</td>\n",
       "      <td>湖北</td>\n",
       "      <td>1.0</td>\n",
       "      <td>30.0</td>\n",
       "      <td>30.0</td>\n",
       "    </tr>\n",
       "    <tr>\n",
       "      <th>6</th>\n",
       "      <td>953f-4b46-a8a2-0eb0e39818a8</td>\n",
       "      <td>2020-01-01</td>\n",
       "      <td>湖北</td>\n",
       "      <td>1.0</td>\n",
       "      <td>30.0</td>\n",
       "      <td>30.0</td>\n",
       "    </tr>\n",
       "    <tr>\n",
       "      <th>11</th>\n",
       "      <td>87af-48e5-8bed-c5dcf9ecc172</td>\n",
       "      <td>2020-01-01</td>\n",
       "      <td>湖北</td>\n",
       "      <td>1.0</td>\n",
       "      <td>30.0</td>\n",
       "      <td>30.0</td>\n",
       "    </tr>\n",
       "    <tr>\n",
       "      <th>12</th>\n",
       "      <td>535a-4eca-8fa0-9cc54c66e11d</td>\n",
       "      <td>2020-01-01</td>\n",
       "      <td>湖南</td>\n",
       "      <td>1.0</td>\n",
       "      <td>30.0</td>\n",
       "      <td>30.0</td>\n",
       "    </tr>\n",
       "    <tr>\n",
       "      <th>13</th>\n",
       "      <td>d707-4d5c-ac10-59d3fd3dc0bb</td>\n",
       "      <td>2020-01-01</td>\n",
       "      <td>广东</td>\n",
       "      <td>1.0</td>\n",
       "      <td>30.0</td>\n",
       "      <td>30.0</td>\n",
       "    </tr>\n",
       "    <tr>\n",
       "      <th>...</th>\n",
       "      <td>...</td>\n",
       "      <td>...</td>\n",
       "      <td>...</td>\n",
       "      <td>...</td>\n",
       "      <td>...</td>\n",
       "      <td>...</td>\n",
       "    </tr>\n",
       "    <tr>\n",
       "      <th>100951</th>\n",
       "      <td>8cad-41ee-85b7-c59b85f0ebe6</td>\n",
       "      <td>2020-06-30</td>\n",
       "      <td>湖北</td>\n",
       "      <td>10.0</td>\n",
       "      <td>30.0</td>\n",
       "      <td>300.0</td>\n",
       "    </tr>\n",
       "    <tr>\n",
       "      <th>100952</th>\n",
       "      <td>4ea4-480a-a070-295408955363</td>\n",
       "      <td>2020-06-30</td>\n",
       "      <td>湖北</td>\n",
       "      <td>6.0</td>\n",
       "      <td>30.0</td>\n",
       "      <td>180.0</td>\n",
       "    </tr>\n",
       "    <tr>\n",
       "      <th>100953</th>\n",
       "      <td>70f3-4461-9b5f-7f53a55c51b6</td>\n",
       "      <td>2020-06-30</td>\n",
       "      <td>湖北</td>\n",
       "      <td>10.0</td>\n",
       "      <td>30.0</td>\n",
       "      <td>300.0</td>\n",
       "    </tr>\n",
       "    <tr>\n",
       "      <th>100954</th>\n",
       "      <td>9cc8-4542-8fed-3145e1942504</td>\n",
       "      <td>2020-06-30</td>\n",
       "      <td>湖北</td>\n",
       "      <td>10.0</td>\n",
       "      <td>30.0</td>\n",
       "      <td>300.0</td>\n",
       "    </tr>\n",
       "    <tr>\n",
       "      <th>100955</th>\n",
       "      <td>f202-45df-96e2-ca4e4c389624</td>\n",
       "      <td>2020-06-30</td>\n",
       "      <td>湖北</td>\n",
       "      <td>5.0</td>\n",
       "      <td>30.0</td>\n",
       "      <td>150.0</td>\n",
       "    </tr>\n",
       "  </tbody>\n",
       "</table>\n",
       "<p>99485 rows × 6 columns</p>\n",
       "</div>"
      ],
      "text/plain": [
       "                               订单编号          日期   省   订单量    单价    销售额\n",
       "2       a56d-4415-ad6e-020cdb154c35  2020-01-01  湖北   1.0  30.0   30.0\n",
       "6       953f-4b46-a8a2-0eb0e39818a8  2020-01-01  湖北   1.0  30.0   30.0\n",
       "11      87af-48e5-8bed-c5dcf9ecc172  2020-01-01  湖北   1.0  30.0   30.0\n",
       "12      535a-4eca-8fa0-9cc54c66e11d  2020-01-01  湖南   1.0  30.0   30.0\n",
       "13      d707-4d5c-ac10-59d3fd3dc0bb  2020-01-01  广东   1.0  30.0   30.0\n",
       "...                             ...         ...  ..   ...   ...    ...\n",
       "100951  8cad-41ee-85b7-c59b85f0ebe6  2020-06-30  湖北  10.0  30.0  300.0\n",
       "100952  4ea4-480a-a070-295408955363  2020-06-30  湖北   6.0  30.0  180.0\n",
       "100953  70f3-4461-9b5f-7f53a55c51b6  2020-06-30  湖北  10.0  30.0  300.0\n",
       "100954  9cc8-4542-8fed-3145e1942504  2020-06-30  湖北  10.0  30.0  300.0\n",
       "100955  f202-45df-96e2-ca4e4c389624  2020-06-30  湖北   5.0  30.0  150.0\n",
       "\n",
       "[99485 rows x 6 columns]"
      ]
     },
     "execution_count": 17,
     "metadata": {},
     "output_type": "execute_result"
    }
   ],
   "source": [
    "# 查看清洗好的数据\n",
    "mask_data"
   ]
  },
  {
   "cell_type": "markdown",
   "metadata": {},
   "source": [
    "### 转换日期数据"
   ]
  },
  {
   "cell_type": "code",
   "execution_count": 18,
   "metadata": {},
   "outputs": [
    {
     "data": {
      "text/plain": [
       "2        2020-01-01\n",
       "6        2020-01-01\n",
       "11       2020-01-01\n",
       "12       2020-01-01\n",
       "13       2020-01-01\n",
       "            ...    \n",
       "100951   2020-06-30\n",
       "100952   2020-06-30\n",
       "100953   2020-06-30\n",
       "100954   2020-06-30\n",
       "100955   2020-06-30\n",
       "Name: 日期, Length: 99485, dtype: datetime64[ns]"
      ]
     },
     "execution_count": 18,
     "metadata": {},
     "output_type": "execute_result"
    }
   ],
   "source": [
    "# 转换日期数据，并设置对应的日期格式\n",
    "date_data = pd.to_datetime(mask_data['日期'], format = '%Y-%m-%d')\n",
    "# 查看date_data\n",
    "date_data"
   ]
  },
  {
   "cell_type": "markdown",
   "metadata": {},
   "source": [
    "#### 提取月份信息"
   ]
  },
  {
   "cell_type": "code",
   "execution_count": 19,
   "metadata": {},
   "outputs": [
    {
     "data": {
      "text/plain": [
       "2         1\n",
       "6         1\n",
       "11        1\n",
       "12        1\n",
       "13        1\n",
       "         ..\n",
       "100951    6\n",
       "100952    6\n",
       "100953    6\n",
       "100954    6\n",
       "100955    6\n",
       "Name: 日期, Length: 99485, dtype: int64"
      ]
     },
     "execution_count": 19,
     "metadata": {},
     "output_type": "execute_result"
    }
   ],
   "source": [
    "# 转换日期数据，并设置对应的日期格式\n",
    "date_data = pd.to_datetime(mask_data['日期'], format = '%Y-%m-%d')\n",
    "# 提取日期数据中的月份信息\n",
    "month_data = date_data.dt.month\n",
    "# 查看month_data\n",
    "month_data"
   ]
  },
  {
   "cell_type": "markdown",
   "metadata": {},
   "source": [
    "#### 添加新列"
   ]
  },
  {
   "cell_type": "code",
   "execution_count": 20,
   "metadata": {},
   "outputs": [
    {
     "data": {
      "text/html": [
       "<div>\n",
       "<style scoped>\n",
       "    .dataframe tbody tr th:only-of-type {\n",
       "        vertical-align: middle;\n",
       "    }\n",
       "\n",
       "    .dataframe tbody tr th {\n",
       "        vertical-align: top;\n",
       "    }\n",
       "\n",
       "    .dataframe thead th {\n",
       "        text-align: right;\n",
       "    }\n",
       "</style>\n",
       "<table border=\"1\" class=\"dataframe\">\n",
       "  <thead>\n",
       "    <tr style=\"text-align: right;\">\n",
       "      <th></th>\n",
       "      <th>订单编号</th>\n",
       "      <th>日期</th>\n",
       "      <th>省</th>\n",
       "      <th>订单量</th>\n",
       "      <th>单价</th>\n",
       "      <th>销售额</th>\n",
       "      <th>月份</th>\n",
       "    </tr>\n",
       "  </thead>\n",
       "  <tbody>\n",
       "    <tr>\n",
       "      <th>2</th>\n",
       "      <td>a56d-4415-ad6e-020cdb154c35</td>\n",
       "      <td>2020-01-01</td>\n",
       "      <td>湖北</td>\n",
       "      <td>1.0</td>\n",
       "      <td>30.0</td>\n",
       "      <td>30.0</td>\n",
       "      <td>1</td>\n",
       "    </tr>\n",
       "    <tr>\n",
       "      <th>6</th>\n",
       "      <td>953f-4b46-a8a2-0eb0e39818a8</td>\n",
       "      <td>2020-01-01</td>\n",
       "      <td>湖北</td>\n",
       "      <td>1.0</td>\n",
       "      <td>30.0</td>\n",
       "      <td>30.0</td>\n",
       "      <td>1</td>\n",
       "    </tr>\n",
       "    <tr>\n",
       "      <th>11</th>\n",
       "      <td>87af-48e5-8bed-c5dcf9ecc172</td>\n",
       "      <td>2020-01-01</td>\n",
       "      <td>湖北</td>\n",
       "      <td>1.0</td>\n",
       "      <td>30.0</td>\n",
       "      <td>30.0</td>\n",
       "      <td>1</td>\n",
       "    </tr>\n",
       "    <tr>\n",
       "      <th>12</th>\n",
       "      <td>535a-4eca-8fa0-9cc54c66e11d</td>\n",
       "      <td>2020-01-01</td>\n",
       "      <td>湖南</td>\n",
       "      <td>1.0</td>\n",
       "      <td>30.0</td>\n",
       "      <td>30.0</td>\n",
       "      <td>1</td>\n",
       "    </tr>\n",
       "    <tr>\n",
       "      <th>13</th>\n",
       "      <td>d707-4d5c-ac10-59d3fd3dc0bb</td>\n",
       "      <td>2020-01-01</td>\n",
       "      <td>广东</td>\n",
       "      <td>1.0</td>\n",
       "      <td>30.0</td>\n",
       "      <td>30.0</td>\n",
       "      <td>1</td>\n",
       "    </tr>\n",
       "    <tr>\n",
       "      <th>...</th>\n",
       "      <td>...</td>\n",
       "      <td>...</td>\n",
       "      <td>...</td>\n",
       "      <td>...</td>\n",
       "      <td>...</td>\n",
       "      <td>...</td>\n",
       "      <td>...</td>\n",
       "    </tr>\n",
       "    <tr>\n",
       "      <th>100951</th>\n",
       "      <td>8cad-41ee-85b7-c59b85f0ebe6</td>\n",
       "      <td>2020-06-30</td>\n",
       "      <td>湖北</td>\n",
       "      <td>10.0</td>\n",
       "      <td>30.0</td>\n",
       "      <td>300.0</td>\n",
       "      <td>6</td>\n",
       "    </tr>\n",
       "    <tr>\n",
       "      <th>100952</th>\n",
       "      <td>4ea4-480a-a070-295408955363</td>\n",
       "      <td>2020-06-30</td>\n",
       "      <td>湖北</td>\n",
       "      <td>6.0</td>\n",
       "      <td>30.0</td>\n",
       "      <td>180.0</td>\n",
       "      <td>6</td>\n",
       "    </tr>\n",
       "    <tr>\n",
       "      <th>100953</th>\n",
       "      <td>70f3-4461-9b5f-7f53a55c51b6</td>\n",
       "      <td>2020-06-30</td>\n",
       "      <td>湖北</td>\n",
       "      <td>10.0</td>\n",
       "      <td>30.0</td>\n",
       "      <td>300.0</td>\n",
       "      <td>6</td>\n",
       "    </tr>\n",
       "    <tr>\n",
       "      <th>100954</th>\n",
       "      <td>9cc8-4542-8fed-3145e1942504</td>\n",
       "      <td>2020-06-30</td>\n",
       "      <td>湖北</td>\n",
       "      <td>10.0</td>\n",
       "      <td>30.0</td>\n",
       "      <td>300.0</td>\n",
       "      <td>6</td>\n",
       "    </tr>\n",
       "    <tr>\n",
       "      <th>100955</th>\n",
       "      <td>f202-45df-96e2-ca4e4c389624</td>\n",
       "      <td>2020-06-30</td>\n",
       "      <td>湖北</td>\n",
       "      <td>5.0</td>\n",
       "      <td>30.0</td>\n",
       "      <td>150.0</td>\n",
       "      <td>6</td>\n",
       "    </tr>\n",
       "  </tbody>\n",
       "</table>\n",
       "<p>99485 rows × 7 columns</p>\n",
       "</div>"
      ],
      "text/plain": [
       "                               订单编号          日期   省   订单量    单价    销售额  月份\n",
       "2       a56d-4415-ad6e-020cdb154c35  2020-01-01  湖北   1.0  30.0   30.0   1\n",
       "6       953f-4b46-a8a2-0eb0e39818a8  2020-01-01  湖北   1.0  30.0   30.0   1\n",
       "11      87af-48e5-8bed-c5dcf9ecc172  2020-01-01  湖北   1.0  30.0   30.0   1\n",
       "12      535a-4eca-8fa0-9cc54c66e11d  2020-01-01  湖南   1.0  30.0   30.0   1\n",
       "13      d707-4d5c-ac10-59d3fd3dc0bb  2020-01-01  广东   1.0  30.0   30.0   1\n",
       "...                             ...         ...  ..   ...   ...    ...  ..\n",
       "100951  8cad-41ee-85b7-c59b85f0ebe6  2020-06-30  湖北  10.0  30.0  300.0   6\n",
       "100952  4ea4-480a-a070-295408955363  2020-06-30  湖北   6.0  30.0  180.0   6\n",
       "100953  70f3-4461-9b5f-7f53a55c51b6  2020-06-30  湖北  10.0  30.0  300.0   6\n",
       "100954  9cc8-4542-8fed-3145e1942504  2020-06-30  湖北  10.0  30.0  300.0   6\n",
       "100955  f202-45df-96e2-ca4e4c389624  2020-06-30  湖北   5.0  30.0  150.0   6\n",
       "\n",
       "[99485 rows x 7 columns]"
      ]
     },
     "execution_count": 20,
     "metadata": {},
     "output_type": "execute_result"
    }
   ],
   "source": [
    "# 将月份数据添加到原数据中\n",
    "mask_data['月份'] = month_data\n",
    "# 查看原数据\n",
    "mask_data"
   ]
  },
  {
   "cell_type": "code",
   "execution_count": 21,
   "metadata": {},
   "outputs": [],
   "source": [
    "# 保存清洗干净的数据，并取消写入行索引\n",
    "mask_data.to_csv('./工作/mask_data_clean.csv', index = False)"
   ]
  },
  {
   "cell_type": "markdown",
   "metadata": {},
   "source": [
    "# 数据分析"
   ]
  },
  {
   "cell_type": "code",
   "execution_count": 22,
   "metadata": {},
   "outputs": [],
   "source": [
    "import pandas as pd\n",
    "import matplotlib.pyplot as plt\n",
    "# 图像文本中文化\n",
    "plt.rcParams['font.family'] = ['Source Han Sans CN']"
   ]
  },
  {
   "cell_type": "code",
   "execution_count": 23,
   "metadata": {},
   "outputs": [
    {
     "data": {
      "text/html": [
       "<div>\n",
       "<style scoped>\n",
       "    .dataframe tbody tr th:only-of-type {\n",
       "        vertical-align: middle;\n",
       "    }\n",
       "\n",
       "    .dataframe tbody tr th {\n",
       "        vertical-align: top;\n",
       "    }\n",
       "\n",
       "    .dataframe thead th {\n",
       "        text-align: right;\n",
       "    }\n",
       "</style>\n",
       "<table border=\"1\" class=\"dataframe\">\n",
       "  <thead>\n",
       "    <tr style=\"text-align: right;\">\n",
       "      <th></th>\n",
       "      <th>订单编号</th>\n",
       "      <th>日期</th>\n",
       "      <th>省</th>\n",
       "      <th>订单量</th>\n",
       "      <th>单价</th>\n",
       "      <th>销售额</th>\n",
       "      <th>月份</th>\n",
       "    </tr>\n",
       "  </thead>\n",
       "  <tbody>\n",
       "    <tr>\n",
       "      <th>0</th>\n",
       "      <td>a56d-4415-ad6e-020cdb154c35</td>\n",
       "      <td>2020-01-01</td>\n",
       "      <td>湖北</td>\n",
       "      <td>1.0</td>\n",
       "      <td>30.0</td>\n",
       "      <td>30.0</td>\n",
       "      <td>1</td>\n",
       "    </tr>\n",
       "    <tr>\n",
       "      <th>1</th>\n",
       "      <td>953f-4b46-a8a2-0eb0e39818a8</td>\n",
       "      <td>2020-01-01</td>\n",
       "      <td>湖北</td>\n",
       "      <td>1.0</td>\n",
       "      <td>30.0</td>\n",
       "      <td>30.0</td>\n",
       "      <td>1</td>\n",
       "    </tr>\n",
       "    <tr>\n",
       "      <th>2</th>\n",
       "      <td>87af-48e5-8bed-c5dcf9ecc172</td>\n",
       "      <td>2020-01-01</td>\n",
       "      <td>湖北</td>\n",
       "      <td>1.0</td>\n",
       "      <td>30.0</td>\n",
       "      <td>30.0</td>\n",
       "      <td>1</td>\n",
       "    </tr>\n",
       "    <tr>\n",
       "      <th>3</th>\n",
       "      <td>535a-4eca-8fa0-9cc54c66e11d</td>\n",
       "      <td>2020-01-01</td>\n",
       "      <td>湖南</td>\n",
       "      <td>1.0</td>\n",
       "      <td>30.0</td>\n",
       "      <td>30.0</td>\n",
       "      <td>1</td>\n",
       "    </tr>\n",
       "    <tr>\n",
       "      <th>4</th>\n",
       "      <td>d707-4d5c-ac10-59d3fd3dc0bb</td>\n",
       "      <td>2020-01-01</td>\n",
       "      <td>广东</td>\n",
       "      <td>1.0</td>\n",
       "      <td>30.0</td>\n",
       "      <td>30.0</td>\n",
       "      <td>1</td>\n",
       "    </tr>\n",
       "    <tr>\n",
       "      <th>...</th>\n",
       "      <td>...</td>\n",
       "      <td>...</td>\n",
       "      <td>...</td>\n",
       "      <td>...</td>\n",
       "      <td>...</td>\n",
       "      <td>...</td>\n",
       "      <td>...</td>\n",
       "    </tr>\n",
       "    <tr>\n",
       "      <th>99480</th>\n",
       "      <td>8cad-41ee-85b7-c59b85f0ebe6</td>\n",
       "      <td>2020-06-30</td>\n",
       "      <td>湖北</td>\n",
       "      <td>10.0</td>\n",
       "      <td>30.0</td>\n",
       "      <td>300.0</td>\n",
       "      <td>6</td>\n",
       "    </tr>\n",
       "    <tr>\n",
       "      <th>99481</th>\n",
       "      <td>4ea4-480a-a070-295408955363</td>\n",
       "      <td>2020-06-30</td>\n",
       "      <td>湖北</td>\n",
       "      <td>6.0</td>\n",
       "      <td>30.0</td>\n",
       "      <td>180.0</td>\n",
       "      <td>6</td>\n",
       "    </tr>\n",
       "    <tr>\n",
       "      <th>99482</th>\n",
       "      <td>70f3-4461-9b5f-7f53a55c51b6</td>\n",
       "      <td>2020-06-30</td>\n",
       "      <td>湖北</td>\n",
       "      <td>10.0</td>\n",
       "      <td>30.0</td>\n",
       "      <td>300.0</td>\n",
       "      <td>6</td>\n",
       "    </tr>\n",
       "    <tr>\n",
       "      <th>99483</th>\n",
       "      <td>9cc8-4542-8fed-3145e1942504</td>\n",
       "      <td>2020-06-30</td>\n",
       "      <td>湖北</td>\n",
       "      <td>10.0</td>\n",
       "      <td>30.0</td>\n",
       "      <td>300.0</td>\n",
       "      <td>6</td>\n",
       "    </tr>\n",
       "    <tr>\n",
       "      <th>99484</th>\n",
       "      <td>f202-45df-96e2-ca4e4c389624</td>\n",
       "      <td>2020-06-30</td>\n",
       "      <td>湖北</td>\n",
       "      <td>5.0</td>\n",
       "      <td>30.0</td>\n",
       "      <td>150.0</td>\n",
       "      <td>6</td>\n",
       "    </tr>\n",
       "  </tbody>\n",
       "</table>\n",
       "<p>99485 rows × 7 columns</p>\n",
       "</div>"
      ],
      "text/plain": [
       "                              订单编号          日期   省   订单量    单价    销售额  月份\n",
       "0      a56d-4415-ad6e-020cdb154c35  2020-01-01  湖北   1.0  30.0   30.0   1\n",
       "1      953f-4b46-a8a2-0eb0e39818a8  2020-01-01  湖北   1.0  30.0   30.0   1\n",
       "2      87af-48e5-8bed-c5dcf9ecc172  2020-01-01  湖北   1.0  30.0   30.0   1\n",
       "3      535a-4eca-8fa0-9cc54c66e11d  2020-01-01  湖南   1.0  30.0   30.0   1\n",
       "4      d707-4d5c-ac10-59d3fd3dc0bb  2020-01-01  广东   1.0  30.0   30.0   1\n",
       "...                            ...         ...  ..   ...   ...    ...  ..\n",
       "99480  8cad-41ee-85b7-c59b85f0ebe6  2020-06-30  湖北  10.0  30.0  300.0   6\n",
       "99481  4ea4-480a-a070-295408955363  2020-06-30  湖北   6.0  30.0  180.0   6\n",
       "99482  70f3-4461-9b5f-7f53a55c51b6  2020-06-30  湖北  10.0  30.0  300.0   6\n",
       "99483  9cc8-4542-8fed-3145e1942504  2020-06-30  湖北  10.0  30.0  300.0   6\n",
       "99484  f202-45df-96e2-ca4e4c389624  2020-06-30  湖北   5.0  30.0  150.0   6\n",
       "\n",
       "[99485 rows x 7 columns]"
      ]
     },
     "execution_count": 23,
     "metadata": {},
     "output_type": "execute_result"
    }
   ],
   "source": [
    "# 读取清洗好的数据\n",
    "mask_data_clean = pd.read_csv('./工作/mask_data_clean.csv', encoding = 'utf-8')\n",
    "# 查看清洗好的数据\n",
    "mask_data_clean"
   ]
  },
  {
   "cell_type": "markdown",
   "metadata": {},
   "source": [
    "## 分析各月总订单量趋势"
   ]
  },
  {
   "cell_type": "code",
   "execution_count": 24,
   "metadata": {},
   "outputs": [
    {
     "data": {
      "text/plain": [
       "月份\n",
       "1      13852.0\n",
       "2     389319.0\n",
       "3    1961480.0\n",
       "4     546276.0\n",
       "5     158188.0\n",
       "6      22222.0\n",
       "Name: 订单量, dtype: float64"
      ]
     },
     "execution_count": 24,
     "metadata": {},
     "output_type": "execute_result"
    }
   ],
   "source": [
    "# 获取各月总订单量的数据\n",
    "order_number = mask_data_clean.groupby('月份')['订单量'].sum()\n",
    "order_number"
   ]
  },
  {
   "cell_type": "code",
   "execution_count": 25,
   "metadata": {},
   "outputs": [
    {
     "data": {
      "text/plain": [
       "<matplotlib.axes._subplots.AxesSubplot at 0x23eadfa95e0>"
      ]
     },
     "execution_count": 25,
     "metadata": {},
     "output_type": "execute_result"
    },
    {
     "data": {
      "image/png": "[encoded data removed]",
      "text/plain": [
       "<Figure size 504x504 with 1 Axes>"
      ]
     },
     "metadata": {
      "needs_background": "light"
     },
     "output_type": "display_data"
    }
   ],
   "source": [
    "# 画出各月订单总量的折线图\n",
    "order_number.plot(kind = 'line', figsize = (7, 7), title = '各月总订单量趋势图')"
   ]
  },
  {
   "cell_type": "markdown",
   "metadata": {},
   "source": [
    "## 分析各月平均单价趋势"
   ]
  },
  {
   "cell_type": "code",
   "execution_count": 26,
   "metadata": {},
   "outputs": [
    {
     "data": {
      "text/plain": [
       "月份\n",
       "1     38.878137\n",
       "2     74.848017\n",
       "3    175.518112\n",
       "4     50.000000\n",
       "5     40.000000\n",
       "6     30.000000\n",
       "Name: 单价, dtype: float64"
      ]
     },
     "execution_count": 26,
     "metadata": {},
     "output_type": "execute_result"
    }
   ],
   "source": [
    "# 将各月的口罩价格均值保存在mask_price中\n",
    "mask_price = mask_data_clean.groupby('月份')['单价'].mean()\n",
    "mask_price"
   ]
  },
  {
   "cell_type": "code",
   "execution_count": 27,
   "metadata": {},
   "outputs": [
    {
     "data": {
      "text/plain": [
       "<matplotlib.axes._subplots.AxesSubplot at 0x23eb00288b0>"
      ]
     },
     "execution_count": 27,
     "metadata": {},
     "output_type": "execute_result"
    },
    {
     "data": {
      "image/png": "[encoded data removed]",
      "text/plain": [
       "<Figure size 504x504 with 1 Axes>"
      ]
     },
     "metadata": {
      "needs_background": "light"
     },
     "output_type": "display_data"
    }
   ],
   "source": [
    "# 画出各月份平均单价折线图\n",
    "mask_price.plot(kind='line', figsize = (7, 7), title = '各月平均单价趋势图')"
   ]
  },
  {
   "cell_type": "markdown",
   "metadata": {},
   "source": [
    "## 分析各省各月订单量趋势"
   ]
  },
  {
   "cell_type": "code",
   "execution_count": 28,
   "metadata": {},
   "outputs": [
    {
     "data": {
      "text/html": [
       "<div>\n",
       "<style scoped>\n",
       "    .dataframe tbody tr th:only-of-type {\n",
       "        vertical-align: middle;\n",
       "    }\n",
       "\n",
       "    .dataframe tbody tr th {\n",
       "        vertical-align: top;\n",
       "    }\n",
       "\n",
       "    .dataframe thead th {\n",
       "        text-align: right;\n",
       "    }\n",
       "</style>\n",
       "<table border=\"1\" class=\"dataframe\">\n",
       "  <thead>\n",
       "    <tr style=\"text-align: right;\">\n",
       "      <th>省</th>\n",
       "      <th>其他</th>\n",
       "      <th>广东</th>\n",
       "      <th>江苏</th>\n",
       "      <th>河南</th>\n",
       "      <th>湖北</th>\n",
       "      <th>湖南</th>\n",
       "    </tr>\n",
       "    <tr>\n",
       "      <th>月份</th>\n",
       "      <th></th>\n",
       "      <th></th>\n",
       "      <th></th>\n",
       "      <th></th>\n",
       "      <th></th>\n",
       "      <th></th>\n",
       "    </tr>\n",
       "  </thead>\n",
       "  <tbody>\n",
       "    <tr>\n",
       "      <th>1</th>\n",
       "      <td>452.0</td>\n",
       "      <td>2628.0</td>\n",
       "      <td>263.0</td>\n",
       "      <td>434.0</td>\n",
       "      <td>9055.0</td>\n",
       "      <td>1020.0</td>\n",
       "    </tr>\n",
       "    <tr>\n",
       "      <th>2</th>\n",
       "      <td>10668.0</td>\n",
       "      <td>77427.0</td>\n",
       "      <td>2530.0</td>\n",
       "      <td>10058.0</td>\n",
       "      <td>259511.0</td>\n",
       "      <td>29125.0</td>\n",
       "    </tr>\n",
       "    <tr>\n",
       "      <th>3</th>\n",
       "      <td>16871.0</td>\n",
       "      <td>125618.0</td>\n",
       "      <td>4004.0</td>\n",
       "      <td>18293.0</td>\n",
       "      <td>1731060.0</td>\n",
       "      <td>65634.0</td>\n",
       "    </tr>\n",
       "    <tr>\n",
       "      <th>4</th>\n",
       "      <td>2713.0</td>\n",
       "      <td>46708.0</td>\n",
       "      <td>106.0</td>\n",
       "      <td>2917.0</td>\n",
       "      <td>476558.0</td>\n",
       "      <td>17274.0</td>\n",
       "    </tr>\n",
       "    <tr>\n",
       "      <th>5</th>\n",
       "      <td>1250.0</td>\n",
       "      <td>22364.0</td>\n",
       "      <td>118.0</td>\n",
       "      <td>1239.0</td>\n",
       "      <td>126342.0</td>\n",
       "      <td>6875.0</td>\n",
       "    </tr>\n",
       "    <tr>\n",
       "      <th>6</th>\n",
       "      <td>113.0</td>\n",
       "      <td>4038.0</td>\n",
       "      <td>116.0</td>\n",
       "      <td>107.0</td>\n",
       "      <td>17182.0</td>\n",
       "      <td>666.0</td>\n",
       "    </tr>\n",
       "  </tbody>\n",
       "</table>\n",
       "</div>"
      ],
      "text/plain": [
       "省        其他        广东      江苏       河南         湖北       湖南\n",
       "月份                                                        \n",
       "1     452.0    2628.0   263.0    434.0     9055.0   1020.0\n",
       "2   10668.0   77427.0  2530.0  10058.0   259511.0  29125.0\n",
       "3   16871.0  125618.0  4004.0  18293.0  1731060.0  65634.0\n",
       "4    2713.0   46708.0   106.0   2917.0   476558.0  17274.0\n",
       "5    1250.0   22364.0   118.0   1239.0   126342.0   6875.0\n",
       "6     113.0    4038.0   116.0    107.0    17182.0    666.0"
      ]
     },
     "execution_count": 28,
     "metadata": {},
     "output_type": "execute_result"
    }
   ],
   "source": [
    "# 提取各省各月订单量数据\n",
    "month_order = mask_data_clean.groupby(['月份', '省'])['订单量'].sum()\n",
    "# 将多级索引的的Series对象转换成DataFrame对象\n",
    "month_order_df = month_order.unstack()\n",
    "# 查看各省各月订单量数据\n",
    "month_order_df"
   ]
  },
  {
   "cell_type": "code",
   "execution_count": 29,
   "metadata": {},
   "outputs": [
    {
     "data": {
      "text/plain": [
       "<matplotlib.axes._subplots.AxesSubplot at 0x23eb00b27f0>"
      ]
     },
     "execution_count": 29,
     "metadata": {},
     "output_type": "execute_result"
    },
    {
     "data": {
      "image/png": "[encoded data removed]",
      "text/plain": [
       "<Figure size 504x504 with 1 Axes>"
      ]
     },
     "metadata": {
      "needs_background": "light"
     },
     "output_type": "display_data"
    }
   ],
   "source": [
    "# 画出各月份平均单价折线图\n",
    "month_order_df.plot(kind='line', figsize = (7, 7), title = '各省各月订单量趋势图')"
   ]
  },
  {
   "cell_type": "markdown",
   "metadata": {},
   "source": [
    "# 数据展现"
   ]
  },
  {
   "cell_type": "code",
   "execution_count": 30,
   "metadata": {},
   "outputs": [],
   "source": [
    "# 导入pandas模块并将其简化为pd\n",
    "import pandas as pd\n",
    "# 导入pyplot模块\n",
    "from matplotlib import pyplot as plt\n",
    "# 设置显示中文字体\n",
    "plt.rcParams['font.family'] = ['Source Han Sans CN']"
   ]
  },
  {
   "cell_type": "code",
   "execution_count": 31,
   "metadata": {},
   "outputs": [
    {
     "data": {
      "text/html": [
       "<div>\n",
       "<style scoped>\n",
       "    .dataframe tbody tr th:only-of-type {\n",
       "        vertical-align: middle;\n",
       "    }\n",
       "\n",
       "    .dataframe tbody tr th {\n",
       "        vertical-align: top;\n",
       "    }\n",
       "\n",
       "    .dataframe thead th {\n",
       "        text-align: right;\n",
       "    }\n",
       "</style>\n",
       "<table border=\"1\" class=\"dataframe\">\n",
       "  <thead>\n",
       "    <tr style=\"text-align: right;\">\n",
       "      <th></th>\n",
       "      <th>订单编号</th>\n",
       "      <th>日期</th>\n",
       "      <th>省</th>\n",
       "      <th>订单量</th>\n",
       "      <th>单价</th>\n",
       "      <th>销售额</th>\n",
       "      <th>月份</th>\n",
       "    </tr>\n",
       "  </thead>\n",
       "  <tbody>\n",
       "    <tr>\n",
       "      <th>0</th>\n",
       "      <td>a56d-4415-ad6e-020cdb154c35</td>\n",
       "      <td>2020-01-01</td>\n",
       "      <td>湖北</td>\n",
       "      <td>1.0</td>\n",
       "      <td>30.0</td>\n",
       "      <td>30.0</td>\n",
       "      <td>1</td>\n",
       "    </tr>\n",
       "    <tr>\n",
       "      <th>1</th>\n",
       "      <td>953f-4b46-a8a2-0eb0e39818a8</td>\n",
       "      <td>2020-01-01</td>\n",
       "      <td>湖北</td>\n",
       "      <td>1.0</td>\n",
       "      <td>30.0</td>\n",
       "      <td>30.0</td>\n",
       "      <td>1</td>\n",
       "    </tr>\n",
       "    <tr>\n",
       "      <th>2</th>\n",
       "      <td>87af-48e5-8bed-c5dcf9ecc172</td>\n",
       "      <td>2020-01-01</td>\n",
       "      <td>湖北</td>\n",
       "      <td>1.0</td>\n",
       "      <td>30.0</td>\n",
       "      <td>30.0</td>\n",
       "      <td>1</td>\n",
       "    </tr>\n",
       "    <tr>\n",
       "      <th>3</th>\n",
       "      <td>535a-4eca-8fa0-9cc54c66e11d</td>\n",
       "      <td>2020-01-01</td>\n",
       "      <td>湖南</td>\n",
       "      <td>1.0</td>\n",
       "      <td>30.0</td>\n",
       "      <td>30.0</td>\n",
       "      <td>1</td>\n",
       "    </tr>\n",
       "    <tr>\n",
       "      <th>4</th>\n",
       "      <td>d707-4d5c-ac10-59d3fd3dc0bb</td>\n",
       "      <td>2020-01-01</td>\n",
       "      <td>广东</td>\n",
       "      <td>1.0</td>\n",
       "      <td>30.0</td>\n",
       "      <td>30.0</td>\n",
       "      <td>1</td>\n",
       "    </tr>\n",
       "    <tr>\n",
       "      <th>...</th>\n",
       "      <td>...</td>\n",
       "      <td>...</td>\n",
       "      <td>...</td>\n",
       "      <td>...</td>\n",
       "      <td>...</td>\n",
       "      <td>...</td>\n",
       "      <td>...</td>\n",
       "    </tr>\n",
       "    <tr>\n",
       "      <th>99480</th>\n",
       "      <td>8cad-41ee-85b7-c59b85f0ebe6</td>\n",
       "      <td>2020-06-30</td>\n",
       "      <td>湖北</td>\n",
       "      <td>10.0</td>\n",
       "      <td>30.0</td>\n",
       "      <td>300.0</td>\n",
       "      <td>6</td>\n",
       "    </tr>\n",
       "    <tr>\n",
       "      <th>99481</th>\n",
       "      <td>4ea4-480a-a070-295408955363</td>\n",
       "      <td>2020-06-30</td>\n",
       "      <td>湖北</td>\n",
       "      <td>6.0</td>\n",
       "      <td>30.0</td>\n",
       "      <td>180.0</td>\n",
       "      <td>6</td>\n",
       "    </tr>\n",
       "    <tr>\n",
       "      <th>99482</th>\n",
       "      <td>70f3-4461-9b5f-7f53a55c51b6</td>\n",
       "      <td>2020-06-30</td>\n",
       "      <td>湖北</td>\n",
       "      <td>10.0</td>\n",
       "      <td>30.0</td>\n",
       "      <td>300.0</td>\n",
       "      <td>6</td>\n",
       "    </tr>\n",
       "    <tr>\n",
       "      <th>99483</th>\n",
       "      <td>9cc8-4542-8fed-3145e1942504</td>\n",
       "      <td>2020-06-30</td>\n",
       "      <td>湖北</td>\n",
       "      <td>10.0</td>\n",
       "      <td>30.0</td>\n",
       "      <td>300.0</td>\n",
       "      <td>6</td>\n",
       "    </tr>\n",
       "    <tr>\n",
       "      <th>99484</th>\n",
       "      <td>f202-45df-96e2-ca4e4c389624</td>\n",
       "      <td>2020-06-30</td>\n",
       "      <td>湖北</td>\n",
       "      <td>5.0</td>\n",
       "      <td>30.0</td>\n",
       "      <td>150.0</td>\n",
       "      <td>6</td>\n",
       "    </tr>\n",
       "  </tbody>\n",
       "</table>\n",
       "<p>99485 rows × 7 columns</p>\n",
       "</div>"
      ],
      "text/plain": [
       "                              订单编号          日期   省   订单量    单价    销售额  月份\n",
       "0      a56d-4415-ad6e-020cdb154c35  2020-01-01  湖北   1.0  30.0   30.0   1\n",
       "1      953f-4b46-a8a2-0eb0e39818a8  2020-01-01  湖北   1.0  30.0   30.0   1\n",
       "2      87af-48e5-8bed-c5dcf9ecc172  2020-01-01  湖北   1.0  30.0   30.0   1\n",
       "3      535a-4eca-8fa0-9cc54c66e11d  2020-01-01  湖南   1.0  30.0   30.0   1\n",
       "4      d707-4d5c-ac10-59d3fd3dc0bb  2020-01-01  广东   1.0  30.0   30.0   1\n",
       "...                            ...         ...  ..   ...   ...    ...  ..\n",
       "99480  8cad-41ee-85b7-c59b85f0ebe6  2020-06-30  湖北  10.0  30.0  300.0   6\n",
       "99481  4ea4-480a-a070-295408955363  2020-06-30  湖北   6.0  30.0  180.0   6\n",
       "99482  70f3-4461-9b5f-7f53a55c51b6  2020-06-30  湖北  10.0  30.0  300.0   6\n",
       "99483  9cc8-4542-8fed-3145e1942504  2020-06-30  湖北  10.0  30.0  300.0   6\n",
       "99484  f202-45df-96e2-ca4e4c389624  2020-06-30  湖北   5.0  30.0  150.0   6\n",
       "\n",
       "[99485 rows x 7 columns]"
      ]
     },
     "execution_count": 31,
     "metadata": {},
     "output_type": "execute_result"
    }
   ],
   "source": [
    "# 读取清洗好的数据'mask_data_clean.csv'并赋值给mask_data_clean变量\n",
    "mask_data_clean = pd.read_csv('./工作/mask_data_clean.csv', encoding = 'utf-8')\n",
    "# 查看mask_data_clean\n",
    "mask_data_clean"
   ]
  },
  {
   "cell_type": "markdown",
   "metadata": {},
   "source": [
    "## 绘制各月总销售额趋势图"
   ]
  },
  {
   "cell_type": "code",
   "execution_count": 32,
   "metadata": {},
   "outputs": [
    {
     "data": {
      "text/plain": [
       "月份\n",
       "1       550370.0\n",
       "2     29256800.0\n",
       "3    343641650.0\n",
       "4     27313800.0\n",
       "5      6327520.0\n",
       "6       666660.0\n",
       "Name: 销售额, dtype: float64"
      ]
     },
     "execution_count": 32,
     "metadata": {},
     "output_type": "execute_result"
    }
   ],
   "source": [
    "# 求得各月总销售额的数据，并将其赋值给变量order_number\n",
    "sales_income = mask_data_clean.groupby('月份')['销售额'].sum()\n",
    "# 查看order_number\n",
    "sales_income"
   ]
  },
  {
   "cell_type": "code",
   "execution_count": 47,
   "metadata": {},
   "outputs": [
    {
     "data": {
      "image/png": "[encoded data removed]",
      "text/plain": [
       "<Figure size 432x432 with 1 Axes>"
      ]
     },
     "metadata": {
      "needs_background": "light"
     },
     "output_type": "display_data"
    }
   ],
   "source": [
    "# 生成画布，并设置画布的大小\n",
    "plt.figure(figsize=(6, 6))\n",
    "# 设置 x/y 的坐标值\n",
    "x = sales_income.index\n",
    "y = sales_income.values\n",
    "# 绘制折线图，并调整线条、标记点的样式\n",
    "plt.plot(x, y, linewidth=3, color='b', marker='o',\n",
    "         markerfacecolor='w', markersize=10)\n",
    "# 设置图表标题名及字体大小\n",
    "plt.title('各月总销售额趋势图', fontsize=20)\n",
    "# 设置坐标轴的刻度字体大小\n",
    "plt.xticks(fontsize=12)\n",
    "plt.yticks(fontsize=12)\n",
    "# 设置坐标轴的标题名及字体大小\n",
    "plt.xlabel('月份', fontsize=15)\n",
    "plt.ylabel('各月总销售额（亿）', fontsize=15)\n",
    "# 保存画布\n",
    "plt.savefig('./工作/各月总销售额趋势图.png')"
   ]
  },
  {
   "cell_type": "markdown",
   "metadata": {},
   "source": [
    "## 绘制各月平均单价趋势图和分布图"
   ]
  },
  {
   "cell_type": "code",
   "execution_count": 34,
   "metadata": {},
   "outputs": [
    {
     "data": {
      "text/plain": [
       "月份\n",
       "1     38.878137\n",
       "2     74.848017\n",
       "3    175.518112\n",
       "4     50.000000\n",
       "5     40.000000\n",
       "6     30.000000\n",
       "Name: 单价, dtype: float64"
      ]
     },
     "execution_count": 34,
     "metadata": {},
     "output_type": "execute_result"
    }
   ],
   "source": [
    "# 求得各月平均单价数据，并将其赋值给变量average_price\n",
    "mask_price = mask_data_clean.groupby('月份')['单价'].mean()\n",
    "# 查看average_price\n",
    "mask_price"
   ]
  },
  {
   "cell_type": "code",
   "execution_count": 36,
   "metadata": {},
   "outputs": [
    {
     "data": {
      "image/png": "[encoded data removed]",
      "text/plain": [
       "<Figure size 432x432 with 1 Axes>"
      ]
     },
     "metadata": {
      "needs_background": "light"
     },
     "output_type": "display_data"
    }
   ],
   "source": [
    "# 调整画布大小\n",
    "plt.figure(figsize=(6, 6))\n",
    "# 设置x轴和y轴的值\n",
    "x = mask_price.index\n",
    "y = mask_price.values\n",
    "plt.plot(x, y, linewidth=3, color='g', marker='o',\n",
    "         markerfacecolor='w', markersize=10)\n",
    "# 设置坐标轴标签名及其字体大小\n",
    "plt.xlabel('月份', fontsize=15)\n",
    "plt.ylabel('各月平均单价(元)', fontsize=15)\n",
    "# 设置x,y轴坐标轴上字体的大小\n",
    "plt.xticks(size=12)\n",
    "plt.yticks(size=12)\n",
    "# 设置标题及其字体大小\n",
    "plt.title('各月平均单价趋势图', fontsize=20)\n",
    "# 保存画布\n",
    "plt.savefig('./工作/各月平均单价趋势图.png')"
   ]
  },
  {
   "cell_type": "code",
   "execution_count": 48,
   "metadata": {},
   "outputs": [
    {
     "data": {
      "image/png": "[encoded data removed]",
      "text/plain": [
       "<Figure size 432x432 with 1 Axes>"
      ]
     },
     "metadata": {
      "needs_background": "light"
     },
     "output_type": "display_data"
    }
   ],
   "source": [
    "# 调整画布大小\n",
    "plt.figure(figsize=(6, 6))\n",
    "# 设置x轴和y轴的值\n",
    "x = mask_price.index\n",
    "y = mask_price.values\n",
    "# 绘制柱状图，调整柱子的样式，并区分 1 月份和 6 月份颜色\n",
    "plt.bar(x, height=y, label='各月总订单量分布', color=[\n",
    "        'r', 'g', 'g', 'g', 'g', 'b'], width=0.4, alpha=0.6)\n",
    "# 设置坐标轴标签名及其字体大小\n",
    "plt.xlabel('月份', fontsize=15)\n",
    "plt.ylabel('各月平均单价(元)', fontsize=15)\n",
    "# 设置x,y轴坐标轴上字体的大小\n",
    "plt.xticks(size=12)\n",
    "plt.yticks(size=12)\n",
    "# 设置标题及其字体大小\n",
    "plt.title('各月平均单价分布图', fontsize=20)\n",
    "# 设置数据标签\n",
    "for a, b in zip(x, y):\n",
    "    plt.text(a, b, '%.0f' % b, ha='center', va='bottom', fontsize=12)\n",
    "# 保存画布\n",
    "plt.savefig('./工作/各月平均单价分布图.png')"
   ]
  },
  {
   "cell_type": "markdown",
   "metadata": {},
   "source": [
    "## 绘制各月总订单量趋势图和分布图"
   ]
  },
  {
   "cell_type": "code",
   "execution_count": 63,
   "metadata": {},
   "outputs": [
    {
     "data": {
      "text/plain": [
       "月份\n",
       "1      13852.0\n",
       "2     389319.0\n",
       "3    1961480.0\n",
       "4     546276.0\n",
       "5     158188.0\n",
       "6      22222.0\n",
       "Name: 订单量, dtype: float64"
      ]
     },
     "execution_count": 63,
     "metadata": {},
     "output_type": "execute_result"
    }
   ],
   "source": [
    "# 求得各月总订单量的数据，并将其赋值给变量order_number\n",
    "order_number = mask_data_clean.groupby('月份')['订单量'].sum()\n",
    "# 查看order_number\n",
    "order_number"
   ]
  },
  {
   "cell_type": "code",
   "execution_count": 64,
   "metadata": {},
   "outputs": [
    {
     "data": {
      "image/png": "[encoded data removed]",
      "text/plain": [
       "<Figure size 432x432 with 1 Axes>"
      ]
     },
     "metadata": {
      "needs_background": "light"
     },
     "output_type": "display_data"
    }
   ],
   "source": [
    "# 生成画布，并设置画布的大小\n",
    "plt.figure(figsize=(6, 6))\n",
    "# 设置 x/y 坐标值\n",
    "x = order_number.index\n",
    "y = order_number.values\n",
    "# 绘制折线图，并调整线条、标记点的样式\n",
    "plt.plot(x, y, linewidth=3, color=('r'), marker='o',\n",
    "         markerfacecolor='w', markersize=10)\n",
    "# 设置图表标题名及字体大小\n",
    "plt.title('各月总订单量趋势图', fontsize=20)\n",
    "# 设置坐标轴的刻度字体大小\n",
    "plt.xticks(fontsize=12)\n",
    "plt.yticks(fontsize=12)\n",
    "# 设置坐标轴的标题名及字体大小\n",
    "plt.xlabel('月份', fontsize=15)\n",
    "plt.ylabel('各月总订单量（百万）', fontsize=15)\n",
    "# 保存画布\n",
    "plt.savefig('./工作/各月总订单量趋势图.png')"
   ]
  },
  {
   "cell_type": "code",
   "execution_count": 84,
   "metadata": {},
   "outputs": [
    {
     "data": {
      "image/png": "[encoded data removed]",
      "text/plain": [
       "<Figure size 432x432 with 1 Axes>"
      ]
     },
     "metadata": {
      "needs_background": "light"
     },
     "output_type": "display_data"
    }
   ],
   "source": [
    "# 生成画布，并设置画布的大小\n",
    "plt.figure(figsize=(6, 6))\n",
    "# 设置 x/y 坐标值\n",
    "x = order_number.index\n",
    "y = order_number.values\n",
    "# 绘制柱状图，调整柱子的样式，并区分 1 月份和 6 月份颜色\n",
    "plt.bar(x, height=y, label='各月总订单量分布', color='g', width=0.4, alpha=0.6)\n",
    "# 设置图表标题名及字体大小\n",
    "plt.title('各月总订单量分布图', fontsize=20)\n",
    "# 设置坐标轴的刻度字体大小\n",
    "plt.xticks(fontsize=12)\n",
    "plt.yticks([])\n",
    "# 设置坐标轴的标题名及字体大小\n",
    "plt.xlabel('月份', fontsize=15)\n",
    "# 设置数据标签\n",
    "for a, b in zip(x, y):\n",
    "    plt.text(a, b, '%.0f' % b, ha='center', va='bottom', fontsize=12)\n",
    "# 添加图例\n",
    "plt.legend(['各月总订单量（盒）'])\n",
    "# 保存画布\n",
    "plt.savefig('./工作/各月总订单量分布图.png')"
   ]
  },
  {
   "cell_type": "markdown",
   "metadata": {},
   "source": [
    "## 绘制各省各月订单量趋势图"
   ]
  },
  {
   "cell_type": "code",
   "execution_count": 85,
   "metadata": {},
   "outputs": [
    {
     "data": {
      "text/html": [
       "<div>\n",
       "<style scoped>\n",
       "    .dataframe tbody tr th:only-of-type {\n",
       "        vertical-align: middle;\n",
       "    }\n",
       "\n",
       "    .dataframe tbody tr th {\n",
       "        vertical-align: top;\n",
       "    }\n",
       "\n",
       "    .dataframe thead th {\n",
       "        text-align: right;\n",
       "    }\n",
       "</style>\n",
       "<table border=\"1\" class=\"dataframe\">\n",
       "  <thead>\n",
       "    <tr style=\"text-align: right;\">\n",
       "      <th>省</th>\n",
       "      <th>其他</th>\n",
       "      <th>广东</th>\n",
       "      <th>江苏</th>\n",
       "      <th>河南</th>\n",
       "      <th>湖北</th>\n",
       "      <th>湖南</th>\n",
       "    </tr>\n",
       "    <tr>\n",
       "      <th>月份</th>\n",
       "      <th></th>\n",
       "      <th></th>\n",
       "      <th></th>\n",
       "      <th></th>\n",
       "      <th></th>\n",
       "      <th></th>\n",
       "    </tr>\n",
       "  </thead>\n",
       "  <tbody>\n",
       "    <tr>\n",
       "      <th>1</th>\n",
       "      <td>452.0</td>\n",
       "      <td>2628.0</td>\n",
       "      <td>263.0</td>\n",
       "      <td>434.0</td>\n",
       "      <td>9055.0</td>\n",
       "      <td>1020.0</td>\n",
       "    </tr>\n",
       "    <tr>\n",
       "      <th>2</th>\n",
       "      <td>10668.0</td>\n",
       "      <td>77427.0</td>\n",
       "      <td>2530.0</td>\n",
       "      <td>10058.0</td>\n",
       "      <td>259511.0</td>\n",
       "      <td>29125.0</td>\n",
       "    </tr>\n",
       "    <tr>\n",
       "      <th>3</th>\n",
       "      <td>16871.0</td>\n",
       "      <td>125618.0</td>\n",
       "      <td>4004.0</td>\n",
       "      <td>18293.0</td>\n",
       "      <td>1731060.0</td>\n",
       "      <td>65634.0</td>\n",
       "    </tr>\n",
       "    <tr>\n",
       "      <th>4</th>\n",
       "      <td>2713.0</td>\n",
       "      <td>46708.0</td>\n",
       "      <td>106.0</td>\n",
       "      <td>2917.0</td>\n",
       "      <td>476558.0</td>\n",
       "      <td>17274.0</td>\n",
       "    </tr>\n",
       "    <tr>\n",
       "      <th>5</th>\n",
       "      <td>1250.0</td>\n",
       "      <td>22364.0</td>\n",
       "      <td>118.0</td>\n",
       "      <td>1239.0</td>\n",
       "      <td>126342.0</td>\n",
       "      <td>6875.0</td>\n",
       "    </tr>\n",
       "    <tr>\n",
       "      <th>6</th>\n",
       "      <td>113.0</td>\n",
       "      <td>4038.0</td>\n",
       "      <td>116.0</td>\n",
       "      <td>107.0</td>\n",
       "      <td>17182.0</td>\n",
       "      <td>666.0</td>\n",
       "    </tr>\n",
       "  </tbody>\n",
       "</table>\n",
       "</div>"
      ],
      "text/plain": [
       "省        其他        广东      江苏       河南         湖北       湖南\n",
       "月份                                                        \n",
       "1     452.0    2628.0   263.0    434.0     9055.0   1020.0\n",
       "2   10668.0   77427.0  2530.0  10058.0   259511.0  29125.0\n",
       "3   16871.0  125618.0  4004.0  18293.0  1731060.0  65634.0\n",
       "4    2713.0   46708.0   106.0   2917.0   476558.0  17274.0\n",
       "5    1250.0   22364.0   118.0   1239.0   126342.0   6875.0\n",
       "6     113.0    4038.0   116.0    107.0    17182.0    666.0"
      ]
     },
     "execution_count": 85,
     "metadata": {},
     "output_type": "execute_result"
    }
   ],
   "source": [
    "# 提取各省各月订单量数据\n",
    "month_order = mask_data_clean.groupby(['月份', '省'])['订单量'].sum()\n",
    "# 将多级索引的的Series对象转换成DataFrame对象\n",
    "month_order_df = month_order.unstack()\n",
    "# 查看各省各月订单量数据\n",
    "month_order_df"
   ]
  },
  {
   "cell_type": "code",
   "execution_count": 86,
   "metadata": {},
   "outputs": [
    {
     "data": {
      "image/png": "[encoded data removed]",
      "text/plain": [
       "<Figure size 432x432 with 1 Axes>"
      ]
     },
     "metadata": {
      "needs_background": "light"
     },
     "output_type": "display_data"
    }
   ],
   "source": [
    "# 调整画布大小\n",
    "plt.figure(figsize=(6, 6))\n",
    "# 设置 x/y 坐标值\n",
    "x = month_order_df.index\n",
    "y = month_order_df.values\n",
    "# 绘制折线图，并调整线条、标记点的样式\n",
    "plt.plot(x, y, linewidth=2, marker='o', markerfacecolor='w', markersize=10)\n",
    "# 设置图表标题名及字体大小\n",
    "plt.title('各省各月订单量趋势图', fontsize=20)\n",
    "# 设置坐标轴的刻度字体大小\n",
    "plt.xticks(fontsize=12)\n",
    "plt.yticks(fontsize=12)\n",
    "# 设置坐标轴的标题名及字体大小\n",
    "plt.xlabel('月份', fontsize=15)\n",
    "plt.ylabel('各省各月口罩订单量（百万）', fontsize=15)\n",
    "# 添加图例\n",
    "plt.legend(['其他', '广东', '江苏', '河南', '湖北', '湖南'])\n",
    "# 保存画布\n",
    "plt.savefig('./工作/各省各月订单量趋势图.png')"
   ]
  }
 ],
 "metadata": {
  "kernelspec": {
   "display_name": "Python 3",
   "language": "python",
   "name": "python3"
  },
  "language_info": {
   "codemirror_mode": {
    "name": "ipython",
    "version": 3
   },
   "file_extension": ".py",
   "mimetype": "text/x-python",
   "name": "python",
   "nbconvert_exporter": "python",
   "pygments_lexer": "ipython3",
   "version": "3.8.3"
  },
  "toc": {
   "base_numbering": 1,
   "nav_menu": {},
   "number_sections": true,
   "sideBar": true,
   "skip_h1_title": false,
   "title_cell": "Table of Contents",
   "title_sidebar": "Contents",
   "toc_cell": false,
   "toc_position": {
    "height": "calc(100% - 180px)",
    "left": "10px",
    "top": "150px",
    "width": "247px"
   },
   "toc_section_display": true,
   "toc_window_display": true
  }
 },
 "nbformat": 4,
 "nbformat_minor": 4
}
